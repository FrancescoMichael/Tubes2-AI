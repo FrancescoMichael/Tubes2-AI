{
 "cells": [
  {
   "cell_type": "code",
   "execution_count": 1,
   "metadata": {},
   "outputs": [],
   "source": [
    "import pandas as pd\n",
    "import numpy as np\n",
    "%matplotlib inline\n",
    "from sklearn.preprocessing import OneHotEncoder, StandardScaler\n",
    "from sklearn.impute import SimpleImputer\n",
    "from sklearn.pipeline import Pipeline\n",
    "from sklearn.decomposition import PCA\n",
    "from imblearn.over_sampling import SMOTE\n",
    "from sklearn.compose import ColumnTransformer\n",
    "from sklearn.feature_selection import SelectKBest, f_classif, VarianceThreshold\n",
    "from sklearn.model_selection import train_test_split\n",
    "from sklearn.metrics import classification_report, accuracy_score\n",
    "import warnings\n",
    "from sklearn.base import BaseEstimator, TransformerMixin\n",
    "warnings.filterwarnings('ignore')"
   ]
  },
  {
   "cell_type": "code",
   "execution_count": 2,
   "metadata": {},
   "outputs": [],
   "source": [
    "DATA_PATH = './data/'\n",
    "TRAIN_PATH = 'train/'\n",
    "TEST_PATH = 'test/'"
   ]
  },
  {
   "cell_type": "code",
   "execution_count": 3,
   "metadata": {},
   "outputs": [],
   "source": [
    "NB15_FEATURES = 'UNSW-NB15_features-modified.csv'"
   ]
  },
  {
   "cell_type": "code",
   "execution_count": 4,
   "metadata": {},
   "outputs": [
    {
     "data": {
      "text/html": [
       "<div>\n",
       "<style scoped>\n",
       "    .dataframe tbody tr th:only-of-type {\n",
       "        vertical-align: middle;\n",
       "    }\n",
       "\n",
       "    .dataframe tbody tr th {\n",
       "        vertical-align: top;\n",
       "    }\n",
       "\n",
       "    .dataframe thead th {\n",
       "        text-align: right;\n",
       "    }\n",
       "</style>\n",
       "<table border=\"1\" class=\"dataframe\">\n",
       "  <thead>\n",
       "    <tr style=\"text-align: right;\">\n",
       "      <th></th>\n",
       "      <th>No.</th>\n",
       "      <th>Name</th>\n",
       "      <th>Type</th>\n",
       "      <th>Description</th>\n",
       "      <th>feature_type</th>\n",
       "    </tr>\n",
       "  </thead>\n",
       "  <tbody>\n",
       "    <tr>\n",
       "      <th>0</th>\n",
       "      <td>5</td>\n",
       "      <td>proto</td>\n",
       "      <td>nominal</td>\n",
       "      <td>Transaction protocol</td>\n",
       "      <td>flow</td>\n",
       "    </tr>\n",
       "    <tr>\n",
       "      <th>1</th>\n",
       "      <td>6</td>\n",
       "      <td>state</td>\n",
       "      <td>nominal</td>\n",
       "      <td>Indicates to the state and its dependent proto...</td>\n",
       "      <td>basic</td>\n",
       "    </tr>\n",
       "    <tr>\n",
       "      <th>2</th>\n",
       "      <td>7</td>\n",
       "      <td>dur</td>\n",
       "      <td>Float</td>\n",
       "      <td>Record total duration</td>\n",
       "      <td>basic</td>\n",
       "    </tr>\n",
       "    <tr>\n",
       "      <th>3</th>\n",
       "      <td>8</td>\n",
       "      <td>sbytes</td>\n",
       "      <td>Integer</td>\n",
       "      <td>Source to destination transaction bytes</td>\n",
       "      <td>basic</td>\n",
       "    </tr>\n",
       "    <tr>\n",
       "      <th>4</th>\n",
       "      <td>9</td>\n",
       "      <td>dbytes</td>\n",
       "      <td>Integer</td>\n",
       "      <td>Destination to source transaction bytes</td>\n",
       "      <td>basic</td>\n",
       "    </tr>\n",
       "    <tr>\n",
       "      <th>5</th>\n",
       "      <td>10</td>\n",
       "      <td>sttl</td>\n",
       "      <td>Integer</td>\n",
       "      <td>Source to destination time to live value</td>\n",
       "      <td>basic</td>\n",
       "    </tr>\n",
       "    <tr>\n",
       "      <th>6</th>\n",
       "      <td>11</td>\n",
       "      <td>dttl</td>\n",
       "      <td>Integer</td>\n",
       "      <td>Destination to source time to live value</td>\n",
       "      <td>basic</td>\n",
       "    </tr>\n",
       "    <tr>\n",
       "      <th>7</th>\n",
       "      <td>12</td>\n",
       "      <td>sloss</td>\n",
       "      <td>Integer</td>\n",
       "      <td>Source packets retransmitted or dropped</td>\n",
       "      <td>basic</td>\n",
       "    </tr>\n",
       "    <tr>\n",
       "      <th>8</th>\n",
       "      <td>13</td>\n",
       "      <td>dloss</td>\n",
       "      <td>Integer</td>\n",
       "      <td>Destination packets retransmitted or dropped</td>\n",
       "      <td>basic</td>\n",
       "    </tr>\n",
       "    <tr>\n",
       "      <th>9</th>\n",
       "      <td>14</td>\n",
       "      <td>service</td>\n",
       "      <td>nominal</td>\n",
       "      <td>http, ftp, smtp, ssh, dns, ftp-data ,irc  and ...</td>\n",
       "      <td>basic</td>\n",
       "    </tr>\n",
       "    <tr>\n",
       "      <th>10</th>\n",
       "      <td>15</td>\n",
       "      <td>sload</td>\n",
       "      <td>Float</td>\n",
       "      <td>Source bits per second</td>\n",
       "      <td>basic</td>\n",
       "    </tr>\n",
       "    <tr>\n",
       "      <th>11</th>\n",
       "      <td>16</td>\n",
       "      <td>dload</td>\n",
       "      <td>Float</td>\n",
       "      <td>Destination bits per second</td>\n",
       "      <td>basic</td>\n",
       "    </tr>\n",
       "    <tr>\n",
       "      <th>12</th>\n",
       "      <td>17</td>\n",
       "      <td>spkts</td>\n",
       "      <td>integer</td>\n",
       "      <td>Source to destination packet count</td>\n",
       "      <td>basic</td>\n",
       "    </tr>\n",
       "    <tr>\n",
       "      <th>13</th>\n",
       "      <td>18</td>\n",
       "      <td>dpkts</td>\n",
       "      <td>integer</td>\n",
       "      <td>Destination to source packet count</td>\n",
       "      <td>basic</td>\n",
       "    </tr>\n",
       "    <tr>\n",
       "      <th>14</th>\n",
       "      <td>19</td>\n",
       "      <td>swin</td>\n",
       "      <td>integer</td>\n",
       "      <td>Source TCP window advertisement value</td>\n",
       "      <td>content</td>\n",
       "    </tr>\n",
       "    <tr>\n",
       "      <th>15</th>\n",
       "      <td>20</td>\n",
       "      <td>dwin</td>\n",
       "      <td>integer</td>\n",
       "      <td>Destination TCP window advertisement value</td>\n",
       "      <td>content</td>\n",
       "    </tr>\n",
       "    <tr>\n",
       "      <th>16</th>\n",
       "      <td>21</td>\n",
       "      <td>stcpb</td>\n",
       "      <td>integer</td>\n",
       "      <td>Source TCP base sequence number</td>\n",
       "      <td>content</td>\n",
       "    </tr>\n",
       "    <tr>\n",
       "      <th>17</th>\n",
       "      <td>22</td>\n",
       "      <td>dtcpb</td>\n",
       "      <td>integer</td>\n",
       "      <td>Destination TCP base sequence number</td>\n",
       "      <td>content</td>\n",
       "    </tr>\n",
       "    <tr>\n",
       "      <th>18</th>\n",
       "      <td>23</td>\n",
       "      <td>smean</td>\n",
       "      <td>integer</td>\n",
       "      <td>Mean of the ?ow packet size transmitted by the...</td>\n",
       "      <td>content</td>\n",
       "    </tr>\n",
       "    <tr>\n",
       "      <th>19</th>\n",
       "      <td>24</td>\n",
       "      <td>dmean</td>\n",
       "      <td>integer</td>\n",
       "      <td>Mean of the ?ow packet size transmitted by the...</td>\n",
       "      <td>content</td>\n",
       "    </tr>\n",
       "    <tr>\n",
       "      <th>20</th>\n",
       "      <td>25</td>\n",
       "      <td>trans_depth</td>\n",
       "      <td>integer</td>\n",
       "      <td>Represents the pipelined depth into the connec...</td>\n",
       "      <td>content</td>\n",
       "    </tr>\n",
       "    <tr>\n",
       "      <th>21</th>\n",
       "      <td>26</td>\n",
       "      <td>response_body_len</td>\n",
       "      <td>integer</td>\n",
       "      <td>Actual uncompressed content size of the data t...</td>\n",
       "      <td>content</td>\n",
       "    </tr>\n",
       "    <tr>\n",
       "      <th>22</th>\n",
       "      <td>27</td>\n",
       "      <td>sjit</td>\n",
       "      <td>Float</td>\n",
       "      <td>Source jitter (mSec)</td>\n",
       "      <td>time</td>\n",
       "    </tr>\n",
       "    <tr>\n",
       "      <th>23</th>\n",
       "      <td>28</td>\n",
       "      <td>djit</td>\n",
       "      <td>Float</td>\n",
       "      <td>Destination jitter (mSec)</td>\n",
       "      <td>time</td>\n",
       "    </tr>\n",
       "    <tr>\n",
       "      <th>24</th>\n",
       "      <td>31</td>\n",
       "      <td>sinpkt</td>\n",
       "      <td>Float</td>\n",
       "      <td>Source interpacket arrival time (mSec)</td>\n",
       "      <td>time</td>\n",
       "    </tr>\n",
       "    <tr>\n",
       "      <th>25</th>\n",
       "      <td>32</td>\n",
       "      <td>dinpkt</td>\n",
       "      <td>Float</td>\n",
       "      <td>Destination interpacket arrival time (mSec)</td>\n",
       "      <td>time</td>\n",
       "    </tr>\n",
       "    <tr>\n",
       "      <th>26</th>\n",
       "      <td>33</td>\n",
       "      <td>tcprtt</td>\n",
       "      <td>Float</td>\n",
       "      <td>TCP connection setup round-trip time, the sum ...</td>\n",
       "      <td>time</td>\n",
       "    </tr>\n",
       "    <tr>\n",
       "      <th>27</th>\n",
       "      <td>34</td>\n",
       "      <td>synack</td>\n",
       "      <td>Float</td>\n",
       "      <td>TCP connection setup time, the time between th...</td>\n",
       "      <td>time</td>\n",
       "    </tr>\n",
       "    <tr>\n",
       "      <th>28</th>\n",
       "      <td>35</td>\n",
       "      <td>ackdat</td>\n",
       "      <td>Float</td>\n",
       "      <td>TCP connection setup time, the time between th...</td>\n",
       "      <td>time</td>\n",
       "    </tr>\n",
       "    <tr>\n",
       "      <th>29</th>\n",
       "      <td>36</td>\n",
       "      <td>is_sm_ips_ports</td>\n",
       "      <td>Binary</td>\n",
       "      <td>If source (1) and destination (3)IP addresses ...</td>\n",
       "      <td>additional</td>\n",
       "    </tr>\n",
       "    <tr>\n",
       "      <th>30</th>\n",
       "      <td>37</td>\n",
       "      <td>ct_state_ttl</td>\n",
       "      <td>Integer</td>\n",
       "      <td>No. for each state (6) according to specific r...</td>\n",
       "      <td>additional</td>\n",
       "    </tr>\n",
       "    <tr>\n",
       "      <th>31</th>\n",
       "      <td>38</td>\n",
       "      <td>ct_flw_http_mthd</td>\n",
       "      <td>Integer</td>\n",
       "      <td>No. of flows that has methods such as Get and ...</td>\n",
       "      <td>additional</td>\n",
       "    </tr>\n",
       "    <tr>\n",
       "      <th>32</th>\n",
       "      <td>39</td>\n",
       "      <td>is_ftp_login</td>\n",
       "      <td>Binary</td>\n",
       "      <td>If the ftp session is accessed by user and pas...</td>\n",
       "      <td>additional</td>\n",
       "    </tr>\n",
       "    <tr>\n",
       "      <th>33</th>\n",
       "      <td>40</td>\n",
       "      <td>ct_ftp_cmd</td>\n",
       "      <td>integer</td>\n",
       "      <td>No of flows that has a command in ftp session.</td>\n",
       "      <td>additional</td>\n",
       "    </tr>\n",
       "    <tr>\n",
       "      <th>34</th>\n",
       "      <td>41</td>\n",
       "      <td>ct_srv_src</td>\n",
       "      <td>integer</td>\n",
       "      <td>No. of connections that contain the same servi...</td>\n",
       "      <td>additional</td>\n",
       "    </tr>\n",
       "    <tr>\n",
       "      <th>35</th>\n",
       "      <td>42</td>\n",
       "      <td>ct_srv_dst</td>\n",
       "      <td>integer</td>\n",
       "      <td>No. of connections that contain the same servi...</td>\n",
       "      <td>additional</td>\n",
       "    </tr>\n",
       "    <tr>\n",
       "      <th>36</th>\n",
       "      <td>43</td>\n",
       "      <td>ct_dst_ltm</td>\n",
       "      <td>integer</td>\n",
       "      <td>No. of connections of the same destination add...</td>\n",
       "      <td>additional</td>\n",
       "    </tr>\n",
       "    <tr>\n",
       "      <th>37</th>\n",
       "      <td>44</td>\n",
       "      <td>ct_src_ltm</td>\n",
       "      <td>integer</td>\n",
       "      <td>No. of connections of the same source address ...</td>\n",
       "      <td>additional</td>\n",
       "    </tr>\n",
       "    <tr>\n",
       "      <th>38</th>\n",
       "      <td>45</td>\n",
       "      <td>ct_src_dport_ltm</td>\n",
       "      <td>integer</td>\n",
       "      <td>No of connections of the same source address (...</td>\n",
       "      <td>additional</td>\n",
       "    </tr>\n",
       "    <tr>\n",
       "      <th>39</th>\n",
       "      <td>46</td>\n",
       "      <td>ct_dst_sport_ltm</td>\n",
       "      <td>integer</td>\n",
       "      <td>No of connections of the same destination addr...</td>\n",
       "      <td>additional</td>\n",
       "    </tr>\n",
       "    <tr>\n",
       "      <th>40</th>\n",
       "      <td>47</td>\n",
       "      <td>ct_dst_src_ltm</td>\n",
       "      <td>integer</td>\n",
       "      <td>No of connections of the same source (1) and t...</td>\n",
       "      <td>additional</td>\n",
       "    </tr>\n",
       "    <tr>\n",
       "      <th>41</th>\n",
       "      <td>48</td>\n",
       "      <td>attack_cat</td>\n",
       "      <td>nominal</td>\n",
       "      <td>The name of each attack category. In this data...</td>\n",
       "      <td>label</td>\n",
       "    </tr>\n",
       "    <tr>\n",
       "      <th>42</th>\n",
       "      <td>49</td>\n",
       "      <td>label</td>\n",
       "      <td>binary</td>\n",
       "      <td>0 for normal and 1 for attack records</td>\n",
       "      <td>label</td>\n",
       "    </tr>\n",
       "  </tbody>\n",
       "</table>\n",
       "</div>"
      ],
      "text/plain": [
       "    No.               Name    Type   \\\n",
       "0     5              proto  nominal   \n",
       "1     6              state  nominal   \n",
       "2     7                dur    Float   \n",
       "3     8             sbytes  Integer   \n",
       "4     9             dbytes  Integer   \n",
       "5    10               sttl  Integer   \n",
       "6    11               dttl  Integer   \n",
       "7    12              sloss  Integer   \n",
       "8    13              dloss  Integer   \n",
       "9    14            service  nominal   \n",
       "10   15              sload    Float   \n",
       "11   16              dload    Float   \n",
       "12   17              spkts  integer   \n",
       "13   18              dpkts  integer   \n",
       "14   19               swin  integer   \n",
       "15   20               dwin  integer   \n",
       "16   21              stcpb  integer   \n",
       "17   22              dtcpb  integer   \n",
       "18   23              smean  integer   \n",
       "19   24              dmean  integer   \n",
       "20   25        trans_depth  integer   \n",
       "21   26  response_body_len  integer   \n",
       "22   27               sjit    Float   \n",
       "23   28               djit    Float   \n",
       "24   31             sinpkt    Float   \n",
       "25   32             dinpkt    Float   \n",
       "26   33             tcprtt    Float   \n",
       "27   34             synack    Float   \n",
       "28   35             ackdat    Float   \n",
       "29   36    is_sm_ips_ports   Binary   \n",
       "30   37       ct_state_ttl  Integer   \n",
       "31   38   ct_flw_http_mthd  Integer   \n",
       "32   39       is_ftp_login   Binary   \n",
       "33   40         ct_ftp_cmd  integer   \n",
       "34   41         ct_srv_src  integer   \n",
       "35   42         ct_srv_dst  integer   \n",
       "36   43         ct_dst_ltm  integer   \n",
       "37   44         ct_src_ltm  integer   \n",
       "38   45   ct_src_dport_ltm  integer   \n",
       "39   46   ct_dst_sport_ltm  integer   \n",
       "40   47     ct_dst_src_ltm  integer   \n",
       "41   48         attack_cat  nominal   \n",
       "42   49              label   binary   \n",
       "\n",
       "                                          Description feature_type  \n",
       "0                                Transaction protocol         flow  \n",
       "1   Indicates to the state and its dependent proto...        basic  \n",
       "2                               Record total duration        basic  \n",
       "3            Source to destination transaction bytes         basic  \n",
       "4             Destination to source transaction bytes        basic  \n",
       "5           Source to destination time to live value         basic  \n",
       "6            Destination to source time to live value        basic  \n",
       "7            Source packets retransmitted or dropped         basic  \n",
       "8        Destination packets retransmitted or dropped        basic  \n",
       "9   http, ftp, smtp, ssh, dns, ftp-data ,irc  and ...        basic  \n",
       "10                             Source bits per second        basic  \n",
       "11                        Destination bits per second        basic  \n",
       "12                Source to destination packet count         basic  \n",
       "13                 Destination to source packet count        basic  \n",
       "14              Source TCP window advertisement value      content  \n",
       "15         Destination TCP window advertisement value      content  \n",
       "16                    Source TCP base sequence number      content  \n",
       "17               Destination TCP base sequence number      content  \n",
       "18  Mean of the ?ow packet size transmitted by the...      content  \n",
       "19  Mean of the ?ow packet size transmitted by the...      content  \n",
       "20  Represents the pipelined depth into the connec...      content  \n",
       "21  Actual uncompressed content size of the data t...      content  \n",
       "22                               Source jitter (mSec)         time  \n",
       "23                          Destination jitter (mSec)         time  \n",
       "24             Source interpacket arrival time (mSec)         time  \n",
       "25        Destination interpacket arrival time (mSec)         time  \n",
       "26  TCP connection setup round-trip time, the sum ...         time  \n",
       "27  TCP connection setup time, the time between th...         time  \n",
       "28  TCP connection setup time, the time between th...         time  \n",
       "29  If source (1) and destination (3)IP addresses ...   additional  \n",
       "30  No. for each state (6) according to specific r...   additional  \n",
       "31  No. of flows that has methods such as Get and ...   additional  \n",
       "32  If the ftp session is accessed by user and pas...   additional  \n",
       "33     No of flows that has a command in ftp session.   additional  \n",
       "34  No. of connections that contain the same servi...   additional  \n",
       "35  No. of connections that contain the same servi...   additional  \n",
       "36  No. of connections of the same destination add...   additional  \n",
       "37  No. of connections of the same source address ...   additional  \n",
       "38  No of connections of the same source address (...   additional  \n",
       "39  No of connections of the same destination addr...   additional  \n",
       "40  No of connections of the same source (1) and t...   additional  \n",
       "41  The name of each attack category. In this data...        label  \n",
       "42              0 for normal and 1 for attack records        label  "
      ]
     },
     "execution_count": 4,
     "metadata": {},
     "output_type": "execute_result"
    }
   ],
   "source": [
    "metadata = pd.read_csv(DATA_PATH + TRAIN_PATH + NB15_FEATURES)\n",
    "\n",
    "metadata"
   ]
  },
  {
   "cell_type": "code",
   "execution_count": 5,
   "metadata": {},
   "outputs": [],
   "source": [
    "ADDITIONAL_FEATURES_TRAIN = 'additional_features_train.csv'\n",
    "BASIC_FEATURES_TRAIN = 'basic_features_train.csv'\n",
    "CONTENT_FEATURES_TRAIN = 'content_features_train.csv'\n",
    "FLOW_FEATURES_TRAIN = 'flow_features_train.csv'\n",
    "LABELS_TRAIN = 'labels_train.csv'\n",
    "TIME_FEATURES_TRAIN = 'time_features_train.csv'"
   ]
  },
  {
   "cell_type": "code",
   "execution_count": 6,
   "metadata": {},
   "outputs": [],
   "source": [
    "dataset_paths_train = [\n",
    "    ADDITIONAL_FEATURES_TRAIN,\n",
    "    BASIC_FEATURES_TRAIN,\n",
    "    CONTENT_FEATURES_TRAIN,\n",
    "    FLOW_FEATURES_TRAIN,\n",
    "    LABELS_TRAIN,\n",
    "    TIME_FEATURES_TRAIN\n",
    "]"
   ]
  },
  {
   "cell_type": "code",
   "execution_count": 7,
   "metadata": {},
   "outputs": [],
   "source": [
    "all_data_train = [pd.read_csv(DATA_PATH + TRAIN_PATH + dp) for dp in dataset_paths_train]\n",
    "\n",
    "df_train = all_data_train[0]\n",
    "\n",
    "for df_i in all_data_train[1:]:\n",
    "    df_train = pd.merge(df_train, df_i, on='id')\n",
    "\n",
    "df_train.drop([\"label\"], axis=1, inplace=True)\n",
    "\n"
   ]
  },
  {
   "cell_type": "code",
   "execution_count": 8,
   "metadata": {},
   "outputs": [],
   "source": [
    "ADDITIONAL_FEATURES_TEST = 'additional_features_test.csv'\n",
    "BASIC_FEATURES_TEST = 'basic_features_test.csv'\n",
    "CONTENT_FEATURES_TEST = 'content_features_test.csv'\n",
    "FLOW_FEATURES_TEST = 'flow_features_test.csv'\n",
    "TIME_FEATURES_TEST = 'time_features_test.csv'"
   ]
  },
  {
   "cell_type": "code",
   "execution_count": 9,
   "metadata": {},
   "outputs": [],
   "source": [
    "dataset_paths_test = [\n",
    "    ADDITIONAL_FEATURES_TEST,\n",
    "    BASIC_FEATURES_TEST,\n",
    "    CONTENT_FEATURES_TEST,\n",
    "    FLOW_FEATURES_TEST,\n",
    "    TIME_FEATURES_TEST\n",
    "]"
   ]
  },
  {
   "cell_type": "code",
   "execution_count": 10,
   "metadata": {},
   "outputs": [
    {
     "data": {
      "text/plain": [
       "(20583, 42)"
      ]
     },
     "execution_count": 10,
     "metadata": {},
     "output_type": "execute_result"
    }
   ],
   "source": [
    "all_data_test = [pd.read_csv(DATA_PATH + TEST_PATH + dp) for dp in dataset_paths_test]\n",
    "\n",
    "df_test = all_data_test[0]\n",
    "\n",
    "for df_i in all_data_test[1:]:\n",
    "    df_test = pd.merge(df_test, df_i, on='id')\n",
    "\n",
    "df_test.shape"
   ]
  },
  {
   "cell_type": "code",
   "execution_count": 11,
   "metadata": {},
   "outputs": [
    {
     "name": "stdout",
     "output_type": "stream",
     "text": [
      "['is_sm_ips_ports', 'ct_state_ttl', 'ct_flw_http_mthd', 'is_ftp_login', 'ct_ftp_cmd', 'ct_srv_src', 'ct_srv_dst', 'ct_dst_ltm', 'ct_src_ltm', 'ct_src_dport_ltm', 'ct_dst_sport_ltm', 'ct_dst_src_ltm', 'id', 'state', 'dur', 'sbytes', 'dbytes', 'sttl', 'dttl', 'sloss', 'dloss', 'service', 'sload', 'dload', 'spkts', 'dpkts', 'swin', 'dwin', 'stcpb', 'dtcpb', 'smean', 'dmean', 'trans_depth', 'response_body_len', 'proto', 'attack_cat', 'sjit', 'djit', 'sinpkt', 'dinpkt', 'tcprtt', 'synack', 'ackdat']\n"
     ]
    }
   ],
   "source": [
    "print(df_train.columns.tolist())"
   ]
  },
  {
   "cell_type": "code",
   "execution_count": 12,
   "metadata": {},
   "outputs": [
    {
     "name": "stdout",
     "output_type": "stream",
     "text": [
      "['is_sm_ips_ports', 'ct_state_ttl', 'ct_flw_http_mthd', 'is_ftp_login', 'ct_ftp_cmd', 'ct_srv_src', 'ct_srv_dst', 'ct_dst_ltm', 'ct_src_ltm', 'ct_src_dport_ltm', 'ct_dst_sport_ltm', 'ct_dst_src_ltm', 'id', 'state', 'dur', 'sbytes', 'dbytes', 'sttl', 'dttl', 'sloss', 'dloss', 'service', 'sload', 'dload', 'spkts', 'dpkts', 'swin', 'dwin', 'stcpb', 'dtcpb', 'smean', 'dmean', 'trans_depth', 'response_body_len', 'proto', 'sjit', 'djit', 'sinpkt', 'dinpkt', 'tcprtt', 'synack', 'ackdat']\n"
     ]
    }
   ],
   "source": [
    "print(df_test.columns.tolist())"
   ]
  },
  {
   "cell_type": "code",
   "execution_count": 13,
   "metadata": {},
   "outputs": [],
   "source": [
    "list_drop_train = ['id']\n",
    "\n",
    "df_train.drop(list_drop_train,axis=1,inplace=True)"
   ]
  },
  {
   "cell_type": "code",
   "execution_count": 14,
   "metadata": {},
   "outputs": [],
   "source": [
    "df_numeric = df_train.select_dtypes(include=[np.number])\n",
    "df_cat = df_train.select_dtypes(exclude=[np.number])"
   ]
  },
  {
   "cell_type": "code",
   "execution_count": 15,
   "metadata": {},
   "outputs": [
    {
     "data": {
      "text/plain": [
       "Index(['is_sm_ips_ports', 'ct_state_ttl', 'ct_flw_http_mthd', 'is_ftp_login',\n",
       "       'ct_ftp_cmd', 'ct_srv_src', 'ct_srv_dst', 'ct_dst_ltm', 'ct_src_ltm',\n",
       "       'ct_src_dport_ltm', 'ct_dst_sport_ltm', 'ct_dst_src_ltm', 'dur',\n",
       "       'sbytes', 'dbytes', 'sttl', 'dttl', 'sloss', 'dloss', 'sload', 'dload',\n",
       "       'spkts', 'dpkts', 'swin', 'dwin', 'stcpb', 'dtcpb', 'smean', 'dmean',\n",
       "       'trans_depth', 'response_body_len', 'sjit', 'djit', 'sinpkt', 'dinpkt',\n",
       "       'tcprtt', 'synack', 'ackdat'],\n",
       "      dtype='object')"
      ]
     },
     "execution_count": 15,
     "metadata": {},
     "output_type": "execute_result"
    }
   ],
   "source": [
    "df_numeric.columns"
   ]
  },
  {
   "cell_type": "code",
   "execution_count": 16,
   "metadata": {},
   "outputs": [],
   "source": [
    "def feature_engineering(X):\n",
    "    # Ensure X is a DataFrame\n",
    "    if isinstance(X, np.ndarray):\n",
    "        X = pd.DataFrame(X)\n",
    "\n",
    "    # Debugging: Print the initial DataFrame columns\n",
    "    print(\"Initial columns:\", X.columns.tolist())\n",
    "    \n",
    "    # Handle outliers using IQR\n",
    "    df_numeric = X.select_dtypes(include=[np.number])\n",
    "    Q1 = df_numeric.quantile(0.25)\n",
    "    Q3 = df_numeric.quantile(0.75)\n",
    "    IQR = Q3 - Q1\n",
    "    \n",
    "    # Determine lower and upper limits\n",
    "    lower_limit = Q1 - 1.5 * IQR\n",
    "    upper_limit = Q3 + 1.5 * IQR\n",
    "    \n",
    "    # Clip the values in the original DataFrame\n",
    "    for column in df_numeric.columns:\n",
    "        X[column] = np.clip(X[column], lower_limit[column], upper_limit[column])\n",
    "    \n",
    "    # Replace numeric values with string representations\n",
    "    if 'is_ftp_login' in X.columns:\n",
    "        X['is_ftp_login'] = X['is_ftp_login'].replace({0: 'false', 1: 'true'})\n",
    "    \n",
    "    if 'is_sm_ips_ports' in X.columns:\n",
    "        X['is_sm_ips_ports'] = X['is_sm_ips_ports'].replace({0: 'false', 1: 'true'})\n",
    "\n",
    "    # Step 1: Compute the correlation matrix for numerical features only\n",
    "    correlation_matrix = X.select_dtypes(include=[np.number]).corr()\n",
    "\n",
    "    # Step 2: Create an upper triangle matrix (since correlation is symmetric, we need to check only one side)\n",
    "    upper_triangle = correlation_matrix.where(np.triu(np.ones(correlation_matrix.shape), k=1).astype(bool))\n",
    "\n",
    "    # Step 3: Get columns with correlations higher than a threshold (e.g., 0.8)\n",
    "    highly_correlated_features = [column for column in upper_triangle.columns if any(upper_triangle[column] > 0.8)]\n",
    "\n",
    "    # Drop the highly correlated features from the DataFrame\n",
    "    X.drop(columns=highly_correlated_features, inplace=True, errors='ignore')  # Use errors='ignore' to avoid issues if columns are not present\n",
    "\n",
    "    # Debugging: Print the final DataFrame columns\n",
    "    print(\"Final columns after dropping highly correlated features:\", X.columns.tolist())\n",
    "    print(\"Dropped highly correlated features:\", highly_correlated_features)  # Print the dropped features\n",
    "\n",
    "    return X, highly_correlated_features"
   ]
  },
  {
   "cell_type": "code",
   "execution_count": 17,
   "metadata": {},
   "outputs": [],
   "source": [
    "df_train, df_val = train_test_split(df_train, test_size=0.2, random_state=0)"
   ]
  },
  {
   "cell_type": "code",
   "execution_count": 18,
   "metadata": {},
   "outputs": [],
   "source": [
    "X_train = df_train.drop(\"attack_cat\", axis = 1)\n",
    "y_train = df_train[\"attack_cat\"]\n",
    "\n",
    "X_val = df_val.drop(\"attack_cat\", axis = 1)\n",
    "y_val = df_val[\"attack_cat\"]"
   ]
  },
  {
   "cell_type": "code",
   "execution_count": 19,
   "metadata": {},
   "outputs": [
    {
     "name": "stdout",
     "output_type": "stream",
     "text": [
      "Initial columns: ['is_sm_ips_ports', 'ct_state_ttl', 'ct_flw_http_mthd', 'is_ftp_login', 'ct_ftp_cmd', 'ct_srv_src', 'ct_srv_dst', 'ct_dst_ltm', 'ct_src_ltm', 'ct_src_dport_ltm', 'ct_dst_sport_ltm', 'ct_dst_src_ltm', 'state', 'dur', 'sbytes', 'dbytes', 'sttl', 'dttl', 'sloss', 'dloss', 'service', 'sload', 'dload', 'spkts', 'dpkts', 'swin', 'dwin', 'stcpb', 'dtcpb', 'smean', 'dmean', 'trans_depth', 'response_body_len', 'proto', 'sjit', 'djit', 'sinpkt', 'dinpkt', 'tcprtt', 'synack', 'ackdat']\n",
      "Final columns after dropping highly correlated features: ['is_sm_ips_ports', 'ct_state_ttl', 'ct_flw_http_mthd', 'is_ftp_login', 'ct_ftp_cmd', 'ct_srv_src', 'state', 'dur', 'sbytes', 'dbytes', 'sttl', 'dttl', 'service', 'sload', 'dload', 'swin', 'stcpb', 'dtcpb', 'smean', 'trans_depth', 'response_body_len', 'proto']\n",
      "Dropped highly correlated features: ['ct_srv_dst', 'ct_dst_ltm', 'ct_src_ltm', 'ct_src_dport_ltm', 'ct_dst_sport_ltm', 'ct_dst_src_ltm', 'sloss', 'dloss', 'spkts', 'dpkts', 'dwin', 'dmean', 'sjit', 'djit', 'sinpkt', 'dinpkt', 'tcprtt', 'synack', 'ackdat']\n",
      "Initial columns: ['is_sm_ips_ports', 'ct_state_ttl', 'ct_flw_http_mthd', 'is_ftp_login', 'ct_ftp_cmd', 'ct_srv_src', 'ct_srv_dst', 'ct_dst_ltm', 'ct_src_ltm', 'ct_src_dport_ltm', 'ct_dst_sport_ltm', 'ct_dst_src_ltm', 'state', 'dur', 'sbytes', 'dbytes', 'sttl', 'dttl', 'sloss', 'dloss', 'service', 'sload', 'dload', 'spkts', 'dpkts', 'swin', 'dwin', 'stcpb', 'dtcpb', 'smean', 'dmean', 'trans_depth', 'response_body_len', 'proto', 'sjit', 'djit', 'sinpkt', 'dinpkt', 'tcprtt', 'synack', 'ackdat']\n",
      "Final columns after dropping highly correlated features: ['is_sm_ips_ports', 'ct_state_ttl', 'ct_flw_http_mthd', 'is_ftp_login', 'ct_ftp_cmd', 'ct_srv_src', 'state', 'dur', 'sbytes', 'dbytes', 'sttl', 'dttl', 'service', 'sload', 'dload', 'swin', 'stcpb', 'dtcpb', 'smean', 'trans_depth', 'response_body_len', 'proto']\n",
      "Dropped highly correlated features: ['ct_srv_dst', 'ct_dst_ltm', 'ct_src_ltm', 'ct_src_dport_ltm', 'ct_dst_sport_ltm', 'ct_dst_src_ltm', 'sloss', 'dloss', 'spkts', 'dpkts', 'dwin', 'dmean', 'sjit', 'djit', 'sinpkt', 'dinpkt', 'tcprtt', 'synack', 'ackdat']\n"
     ]
    }
   ],
   "source": [
    "X_train_transformed, dropped_features_train = feature_engineering(X_train)\n",
    "X_val_transformed, dropped_features_val = feature_engineering(X_val)"
   ]
  },
  {
   "cell_type": "code",
   "execution_count": 20,
   "metadata": {},
   "outputs": [],
   "source": [
    "numeric_transformer = Pipeline(steps=[\n",
    "    ('imputer', SimpleImputer(strategy='median')),\n",
    "    ('scaler', StandardScaler())\n",
    "])\n",
    "\n",
    "categorical_transformer = Pipeline(steps=[\n",
    "    ('imputer', SimpleImputer(strategy='most_frequent')),\n",
    "    ('onehot', OneHotEncoder(sparse_output=False, handle_unknown='ignore'))\n",
    "])\n"
   ]
  },
  {
   "cell_type": "code",
   "execution_count": 21,
   "metadata": {},
   "outputs": [],
   "source": [
    "preprocessor = ColumnTransformer(\n",
    "    transformers=[\n",
    "        ('num', numeric_transformer, X_train_transformed.select_dtypes(include=[np.number]).columns),\n",
    "        ('cat', categorical_transformer, X_train_transformed.select_dtypes(exclude=[np.number]).columns)\n",
    "    ], remainder='passthrough'\n",
    ")"
   ]
  },
  {
   "cell_type": "code",
   "execution_count": 22,
   "metadata": {},
   "outputs": [],
   "source": [
    "pipeline = Pipeline(steps=[\n",
    "    ('preprocessor', preprocessor),\n",
    "    ('pca', PCA(n_components=0.95))  # Retain 95% of variance\n",
    "])"
   ]
  },
  {
   "cell_type": "code",
   "execution_count": 23,
   "metadata": {},
   "outputs": [],
   "source": [
    "# log_transform_and_clip(df_numeric, df_train)"
   ]
  },
  {
   "cell_type": "code",
   "execution_count": 24,
   "metadata": {},
   "outputs": [
    {
     "data": {
      "text/plain": [
       "(140272, 22)"
      ]
     },
     "execution_count": 24,
     "metadata": {},
     "output_type": "execute_result"
    }
   ],
   "source": [
    "X_train.shape"
   ]
  },
  {
   "cell_type": "code",
   "execution_count": 25,
   "metadata": {},
   "outputs": [
    {
     "data": {
      "text/plain": [
       "(35069, 22)"
      ]
     },
     "execution_count": 25,
     "metadata": {},
     "output_type": "execute_result"
    }
   ],
   "source": [
    "X_val.shape"
   ]
  },
  {
   "cell_type": "code",
   "execution_count": 26,
   "metadata": {},
   "outputs": [],
   "source": [
    "train_X_preprocessor = pipeline.fit_transform(X_train, y_train)\n",
    "val_X_preprocessor = pipeline.transform(X_val)"
   ]
  },
  {
   "cell_type": "code",
   "execution_count": 27,
   "metadata": {},
   "outputs": [],
   "source": [
    "# smote = SMOTE(sampling_strategy='auto', k_neighbors=7, random_state=0)\n",
    "# train_X_preprocessor, val_X_preprocessor = smote.fit_resample(train_X_preprocessor, y_train)"
   ]
  },
  {
   "cell_type": "code",
   "execution_count": 28,
   "metadata": {},
   "outputs": [
    {
     "name": "stdout",
     "output_type": "stream",
     "text": [
      "Accuracy:  0.7705380820667826\n",
      "Classification Report: \n",
      "                 precision    recall  f1-score   support\n",
      "\n",
      "      Analysis       0.00      0.00      0.00       372\n",
      "      Backdoor       0.00      0.00      0.00       347\n",
      "           DoS       0.31      0.07      0.11      2457\n",
      "      Exploits       0.59      0.85      0.70      6681\n",
      "       Fuzzers       0.54      0.66      0.60      3633\n",
      "       Generic       0.99      0.97      0.98      8025\n",
      "        Normal       0.93      0.86      0.89     11251\n",
      "Reconnaissance       0.61      0.62      0.62      2073\n",
      "     Shellcode       0.44      0.15      0.22       208\n",
      "         Worms       0.00      0.00      0.00        22\n",
      "\n",
      "      accuracy                           0.77     35069\n",
      "     macro avg       0.44      0.42      0.41     35069\n",
      "  weighted avg       0.75      0.77      0.75     35069\n",
      "\n"
     ]
    }
   ],
   "source": [
    "from sklearn.neighbors import KNeighborsClassifier\n",
    "\n",
    "knn = KNeighborsClassifier(n_neighbors=100, metric='euclidean')\n",
    "\n",
    "knn.fit(train_X_preprocessor, y_train)\n",
    "knn_pred = knn.predict(val_X_preprocessor)\n",
    "print(\"Accuracy: \", accuracy_score(y_val, knn_pred))\n",
    "print(\"Classification Report: \\n\", classification_report(y_val, knn_pred))"
   ]
  },
  {
   "cell_type": "code",
   "execution_count": 29,
   "metadata": {},
   "outputs": [
    {
     "name": "stdout",
     "output_type": "stream",
     "text": [
      "Accuracy:  0.670107502352505\n",
      "Classification Report: \n",
      "                 precision    recall  f1-score   support\n",
      "\n",
      "      Analysis       0.00      0.00      0.00       372\n",
      "      Backdoor       0.00      0.00      0.00       347\n",
      "           DoS       0.27      0.72      0.39      2457\n",
      "      Exploits       0.66      0.40      0.50      6681\n",
      "       Fuzzers       0.44      0.49      0.46      3633\n",
      "       Generic       0.96      0.96      0.96      8025\n",
      "        Normal       0.86      0.80      0.83     11251\n",
      "Reconnaissance       0.31      0.27      0.29      2073\n",
      "     Shellcode       0.00      0.00      0.00       208\n",
      "         Worms       0.05      0.05      0.05        22\n",
      "\n",
      "      accuracy                           0.67     35069\n",
      "     macro avg       0.35      0.37      0.35     35069\n",
      "  weighted avg       0.70      0.67      0.67     35069\n",
      "\n"
     ]
    }
   ],
   "source": [
    "from sklearn.naive_bayes import GaussianNB\n",
    "\n",
    "gnb = GaussianNB()\n",
    "gnb.fit(train_X_preprocessor, y_train)\n",
    "gnb_pred = gnb.predict(val_X_preprocessor)\n",
    "print(\"Accuracy: \", accuracy_score(y_val, gnb_pred))\n",
    "print(\"Classification Report: \\n\", classification_report(y_val, gnb_pred))"
   ]
  },
  {
   "cell_type": "code",
   "execution_count": 30,
   "metadata": {},
   "outputs": [
    {
     "name": "stdout",
     "output_type": "stream",
     "text": [
      "Accuracy:  0.670107502352505\n",
      "Classification Report: \n",
      "                 precision    recall  f1-score   support\n",
      "\n",
      "      Analysis       0.00      0.00      0.00       372\n",
      "      Backdoor       0.00      0.00      0.00       347\n",
      "           DoS       0.27      0.72      0.39      2457\n",
      "      Exploits       0.66      0.40      0.50      6681\n",
      "       Fuzzers       0.44      0.49      0.46      3633\n",
      "       Generic       0.96      0.96      0.96      8025\n",
      "        Normal       0.86      0.80      0.83     11251\n",
      "Reconnaissance       0.31      0.27      0.29      2073\n",
      "     Shellcode       0.00      0.00      0.00       208\n",
      "         Worms       0.05      0.05      0.05        22\n",
      "\n",
      "      accuracy                           0.67     35069\n",
      "     macro avg       0.35      0.37      0.35     35069\n",
      "  weighted avg       0.70      0.67      0.67     35069\n",
      "\n"
     ]
    }
   ],
   "source": [
    "from main import GaussianNaiveBayesScratch\n",
    "\n",
    "gnb_scratch = GaussianNaiveBayesScratch()\n",
    "gnb_scratch.fit(train_X_preprocessor, y_train)\n",
    "gnb_scratch_pred = gnb_scratch.predict(val_X_preprocessor)\n",
    "print(\"Accuracy: \", accuracy_score(y_val, gnb_scratch_pred))\n",
    "print(\"Classification Report: \\n\", classification_report(y_val, gnb_scratch_pred))"
   ]
  },
  {
   "cell_type": "code",
   "execution_count": 31,
   "metadata": {},
   "outputs": [],
   "source": [
    "test_ids = df_test[\"id\"]\n",
    "X_test = df_test.drop(columns=[\"id\"])"
   ]
  },
  {
   "cell_type": "code",
   "execution_count": 32,
   "metadata": {},
   "outputs": [
    {
     "name": "stdout",
     "output_type": "stream",
     "text": [
      "Submission file succesfully created [submission.csv]\n"
     ]
    }
   ],
   "source": [
    "\n",
    "# Preprocess the test data\n",
    "test_X_preprocessed = pipeline.transform(X_test)\n",
    "test_pred = knn.predict(test_X_preprocessed)\n",
    "\n",
    "submission = pd.DataFrame({\n",
    "    \"id\": test_ids,\n",
    "    \"attack_cat\": test_pred\n",
    "})\n",
    "\n",
    "\n",
    "submission.to_csv(\"submission.csv\", index=False)\n",
    "print(\"Submission file succesfully created [submission.csv]\")"
   ]
  }
 ],
 "metadata": {
  "kernelspec": {
   "display_name": "Python 3",
   "language": "python",
   "name": "python3"
  },
  "language_info": {
   "codemirror_mode": {
    "name": "ipython",
    "version": 3
   },
   "file_extension": ".py",
   "mimetype": "text/x-python",
   "name": "python",
   "nbconvert_exporter": "python",
   "pygments_lexer": "ipython3",
   "version": "3.10.5"
  }
 },
 "nbformat": 4,
 "nbformat_minor": 2
}
