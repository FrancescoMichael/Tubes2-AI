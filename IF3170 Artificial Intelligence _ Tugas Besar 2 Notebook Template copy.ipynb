{
 "cells": [
  {
   "cell_type": "markdown",
   "metadata": {
    "id": "uR1JW69eLfG_"
   },
   "source": [
    "# IF3170 Artificial Intelligence | Tugas Besar 2\n",
    "\n",
    "This notebook serves as a template for the assignment. Please create a copy of this notebook to complete your work. You can add more code blocks, markdown blocks, or new sections if needed.\n"
   ]
  },
  {
   "cell_type": "markdown",
   "metadata": {
    "id": "ucbaI5rBLtjJ"
   },
   "source": [
    "Group Number: 13\n",
    "\n",
    "Group Members:\n",
    "- Eduardus Alvito Kristiadi (13522004)\n",
    "- Rici Trisna Putra (13522026)\n",
    "- Francesco Michael Kusuma (13522038)\n",
    "- Keanu Amadius Gonza Wrahatno (13522082)\n",
    "- Dimas Bagoes Hendrianto (13522112)"
   ]
  },
  {
   "cell_type": "markdown",
   "metadata": {
    "id": "GwzsfETHLfHA"
   },
   "source": [
    "## Import Libraries"
   ]
  },
  {
   "cell_type": "code",
   "execution_count": 1,
   "metadata": {
    "id": "jZJU5W_4LfHB"
   },
   "outputs": [],
   "source": [
    "import pandas as pd\n",
    "import numpy as np\n",
    "%matplotlib inline\n",
    "import matplotlib.pyplot as plt\n",
    "import seaborn as sns\n",
    "from scipy import stats\n",
    "\n",
    "from sklearn.preprocessing import OneHotEncoder, StandardScaler, PowerTransformer\n",
    "from sklearn.impute import SimpleImputer\n",
    "from sklearn.pipeline import Pipeline\n",
    "from sklearn.decomposition import PCA\n",
    "from imblearn.over_sampling import SMOTE\n",
    "from sklearn.compose import ColumnTransformer\n",
    "from sklearn.feature_selection import SelectKBest, f_classif, VarianceThreshold\n",
    "from sklearn.model_selection import train_test_split\n",
    "from sklearn.metrics import classification_report, accuracy_score\n",
    "import warnings\n",
    "from sklearn.base import BaseEstimator, TransformerMixin\n",
    "from sklearn.neighbors import KNeighborsClassifier\n",
    "warnings.filterwarnings('ignore')"
   ]
  },
  {
   "cell_type": "markdown",
   "metadata": {
    "id": "OKbjLIdYLfHC"
   },
   "source": [
    "## Import Dataset"
   ]
  },
  {
   "cell_type": "code",
   "execution_count": 2,
   "metadata": {
    "id": "-IWFJ-gdLfHD"
   },
   "outputs": [],
   "source": [
    "DATA_PATH = './data/'\n",
    "TRAIN_PATH = 'train/'\n",
    "TEST_PATH = 'test/'"
   ]
  },
  {
   "cell_type": "code",
   "execution_count": 3,
   "metadata": {},
   "outputs": [],
   "source": [
    "NB15_FEATURES = 'UNSW-NB15_features-modified.csv'"
   ]
  },
  {
   "cell_type": "code",
   "execution_count": 4,
   "metadata": {},
   "outputs": [
    {
     "data": {
      "text/html": [
       "<div>\n",
       "<style scoped>\n",
       "    .dataframe tbody tr th:only-of-type {\n",
       "        vertical-align: middle;\n",
       "    }\n",
       "\n",
       "    .dataframe tbody tr th {\n",
       "        vertical-align: top;\n",
       "    }\n",
       "\n",
       "    .dataframe thead th {\n",
       "        text-align: right;\n",
       "    }\n",
       "</style>\n",
       "<table border=\"1\" class=\"dataframe\">\n",
       "  <thead>\n",
       "    <tr style=\"text-align: right;\">\n",
       "      <th></th>\n",
       "      <th>No.</th>\n",
       "      <th>Name</th>\n",
       "      <th>Type</th>\n",
       "      <th>Description</th>\n",
       "      <th>feature_type</th>\n",
       "    </tr>\n",
       "  </thead>\n",
       "  <tbody>\n",
       "    <tr>\n",
       "      <th>0</th>\n",
       "      <td>5</td>\n",
       "      <td>proto</td>\n",
       "      <td>nominal</td>\n",
       "      <td>Transaction protocol</td>\n",
       "      <td>flow</td>\n",
       "    </tr>\n",
       "    <tr>\n",
       "      <th>1</th>\n",
       "      <td>6</td>\n",
       "      <td>state</td>\n",
       "      <td>nominal</td>\n",
       "      <td>Indicates to the state and its dependent proto...</td>\n",
       "      <td>basic</td>\n",
       "    </tr>\n",
       "    <tr>\n",
       "      <th>2</th>\n",
       "      <td>7</td>\n",
       "      <td>dur</td>\n",
       "      <td>Float</td>\n",
       "      <td>Record total duration</td>\n",
       "      <td>basic</td>\n",
       "    </tr>\n",
       "    <tr>\n",
       "      <th>3</th>\n",
       "      <td>8</td>\n",
       "      <td>sbytes</td>\n",
       "      <td>Integer</td>\n",
       "      <td>Source to destination transaction bytes</td>\n",
       "      <td>basic</td>\n",
       "    </tr>\n",
       "    <tr>\n",
       "      <th>4</th>\n",
       "      <td>9</td>\n",
       "      <td>dbytes</td>\n",
       "      <td>Integer</td>\n",
       "      <td>Destination to source transaction bytes</td>\n",
       "      <td>basic</td>\n",
       "    </tr>\n",
       "    <tr>\n",
       "      <th>5</th>\n",
       "      <td>10</td>\n",
       "      <td>sttl</td>\n",
       "      <td>Integer</td>\n",
       "      <td>Source to destination time to live value</td>\n",
       "      <td>basic</td>\n",
       "    </tr>\n",
       "    <tr>\n",
       "      <th>6</th>\n",
       "      <td>11</td>\n",
       "      <td>dttl</td>\n",
       "      <td>Integer</td>\n",
       "      <td>Destination to source time to live value</td>\n",
       "      <td>basic</td>\n",
       "    </tr>\n",
       "    <tr>\n",
       "      <th>7</th>\n",
       "      <td>12</td>\n",
       "      <td>sloss</td>\n",
       "      <td>Integer</td>\n",
       "      <td>Source packets retransmitted or dropped</td>\n",
       "      <td>basic</td>\n",
       "    </tr>\n",
       "    <tr>\n",
       "      <th>8</th>\n",
       "      <td>13</td>\n",
       "      <td>dloss</td>\n",
       "      <td>Integer</td>\n",
       "      <td>Destination packets retransmitted or dropped</td>\n",
       "      <td>basic</td>\n",
       "    </tr>\n",
       "    <tr>\n",
       "      <th>9</th>\n",
       "      <td>14</td>\n",
       "      <td>service</td>\n",
       "      <td>nominal</td>\n",
       "      <td>http, ftp, smtp, ssh, dns, ftp-data ,irc  and ...</td>\n",
       "      <td>basic</td>\n",
       "    </tr>\n",
       "    <tr>\n",
       "      <th>10</th>\n",
       "      <td>15</td>\n",
       "      <td>sload</td>\n",
       "      <td>Float</td>\n",
       "      <td>Source bits per second</td>\n",
       "      <td>basic</td>\n",
       "    </tr>\n",
       "    <tr>\n",
       "      <th>11</th>\n",
       "      <td>16</td>\n",
       "      <td>dload</td>\n",
       "      <td>Float</td>\n",
       "      <td>Destination bits per second</td>\n",
       "      <td>basic</td>\n",
       "    </tr>\n",
       "    <tr>\n",
       "      <th>12</th>\n",
       "      <td>17</td>\n",
       "      <td>spkts</td>\n",
       "      <td>integer</td>\n",
       "      <td>Source to destination packet count</td>\n",
       "      <td>basic</td>\n",
       "    </tr>\n",
       "    <tr>\n",
       "      <th>13</th>\n",
       "      <td>18</td>\n",
       "      <td>dpkts</td>\n",
       "      <td>integer</td>\n",
       "      <td>Destination to source packet count</td>\n",
       "      <td>basic</td>\n",
       "    </tr>\n",
       "    <tr>\n",
       "      <th>14</th>\n",
       "      <td>19</td>\n",
       "      <td>swin</td>\n",
       "      <td>integer</td>\n",
       "      <td>Source TCP window advertisement value</td>\n",
       "      <td>content</td>\n",
       "    </tr>\n",
       "    <tr>\n",
       "      <th>15</th>\n",
       "      <td>20</td>\n",
       "      <td>dwin</td>\n",
       "      <td>integer</td>\n",
       "      <td>Destination TCP window advertisement value</td>\n",
       "      <td>content</td>\n",
       "    </tr>\n",
       "    <tr>\n",
       "      <th>16</th>\n",
       "      <td>21</td>\n",
       "      <td>stcpb</td>\n",
       "      <td>integer</td>\n",
       "      <td>Source TCP base sequence number</td>\n",
       "      <td>content</td>\n",
       "    </tr>\n",
       "    <tr>\n",
       "      <th>17</th>\n",
       "      <td>22</td>\n",
       "      <td>dtcpb</td>\n",
       "      <td>integer</td>\n",
       "      <td>Destination TCP base sequence number</td>\n",
       "      <td>content</td>\n",
       "    </tr>\n",
       "    <tr>\n",
       "      <th>18</th>\n",
       "      <td>23</td>\n",
       "      <td>smean</td>\n",
       "      <td>integer</td>\n",
       "      <td>Mean of the ?ow packet size transmitted by the...</td>\n",
       "      <td>content</td>\n",
       "    </tr>\n",
       "    <tr>\n",
       "      <th>19</th>\n",
       "      <td>24</td>\n",
       "      <td>dmean</td>\n",
       "      <td>integer</td>\n",
       "      <td>Mean of the ?ow packet size transmitted by the...</td>\n",
       "      <td>content</td>\n",
       "    </tr>\n",
       "    <tr>\n",
       "      <th>20</th>\n",
       "      <td>25</td>\n",
       "      <td>trans_depth</td>\n",
       "      <td>integer</td>\n",
       "      <td>Represents the pipelined depth into the connec...</td>\n",
       "      <td>content</td>\n",
       "    </tr>\n",
       "    <tr>\n",
       "      <th>21</th>\n",
       "      <td>26</td>\n",
       "      <td>response_body_len</td>\n",
       "      <td>integer</td>\n",
       "      <td>Actual uncompressed content size of the data t...</td>\n",
       "      <td>content</td>\n",
       "    </tr>\n",
       "    <tr>\n",
       "      <th>22</th>\n",
       "      <td>27</td>\n",
       "      <td>sjit</td>\n",
       "      <td>Float</td>\n",
       "      <td>Source jitter (mSec)</td>\n",
       "      <td>time</td>\n",
       "    </tr>\n",
       "    <tr>\n",
       "      <th>23</th>\n",
       "      <td>28</td>\n",
       "      <td>djit</td>\n",
       "      <td>Float</td>\n",
       "      <td>Destination jitter (mSec)</td>\n",
       "      <td>time</td>\n",
       "    </tr>\n",
       "    <tr>\n",
       "      <th>24</th>\n",
       "      <td>31</td>\n",
       "      <td>sinpkt</td>\n",
       "      <td>Float</td>\n",
       "      <td>Source interpacket arrival time (mSec)</td>\n",
       "      <td>time</td>\n",
       "    </tr>\n",
       "    <tr>\n",
       "      <th>25</th>\n",
       "      <td>32</td>\n",
       "      <td>dinpkt</td>\n",
       "      <td>Float</td>\n",
       "      <td>Destination interpacket arrival time (mSec)</td>\n",
       "      <td>time</td>\n",
       "    </tr>\n",
       "    <tr>\n",
       "      <th>26</th>\n",
       "      <td>33</td>\n",
       "      <td>tcprtt</td>\n",
       "      <td>Float</td>\n",
       "      <td>TCP connection setup round-trip time, the sum ...</td>\n",
       "      <td>time</td>\n",
       "    </tr>\n",
       "    <tr>\n",
       "      <th>27</th>\n",
       "      <td>34</td>\n",
       "      <td>synack</td>\n",
       "      <td>Float</td>\n",
       "      <td>TCP connection setup time, the time between th...</td>\n",
       "      <td>time</td>\n",
       "    </tr>\n",
       "    <tr>\n",
       "      <th>28</th>\n",
       "      <td>35</td>\n",
       "      <td>ackdat</td>\n",
       "      <td>Float</td>\n",
       "      <td>TCP connection setup time, the time between th...</td>\n",
       "      <td>time</td>\n",
       "    </tr>\n",
       "    <tr>\n",
       "      <th>29</th>\n",
       "      <td>36</td>\n",
       "      <td>is_sm_ips_ports</td>\n",
       "      <td>Binary</td>\n",
       "      <td>If source (1) and destination (3)IP addresses ...</td>\n",
       "      <td>additional</td>\n",
       "    </tr>\n",
       "    <tr>\n",
       "      <th>30</th>\n",
       "      <td>37</td>\n",
       "      <td>ct_state_ttl</td>\n",
       "      <td>Integer</td>\n",
       "      <td>No. for each state (6) according to specific r...</td>\n",
       "      <td>additional</td>\n",
       "    </tr>\n",
       "    <tr>\n",
       "      <th>31</th>\n",
       "      <td>38</td>\n",
       "      <td>ct_flw_http_mthd</td>\n",
       "      <td>Integer</td>\n",
       "      <td>No. of flows that has methods such as Get and ...</td>\n",
       "      <td>additional</td>\n",
       "    </tr>\n",
       "    <tr>\n",
       "      <th>32</th>\n",
       "      <td>39</td>\n",
       "      <td>is_ftp_login</td>\n",
       "      <td>Binary</td>\n",
       "      <td>If the ftp session is accessed by user and pas...</td>\n",
       "      <td>additional</td>\n",
       "    </tr>\n",
       "    <tr>\n",
       "      <th>33</th>\n",
       "      <td>40</td>\n",
       "      <td>ct_ftp_cmd</td>\n",
       "      <td>integer</td>\n",
       "      <td>No of flows that has a command in ftp session.</td>\n",
       "      <td>additional</td>\n",
       "    </tr>\n",
       "    <tr>\n",
       "      <th>34</th>\n",
       "      <td>41</td>\n",
       "      <td>ct_srv_src</td>\n",
       "      <td>integer</td>\n",
       "      <td>No. of connections that contain the same servi...</td>\n",
       "      <td>additional</td>\n",
       "    </tr>\n",
       "    <tr>\n",
       "      <th>35</th>\n",
       "      <td>42</td>\n",
       "      <td>ct_srv_dst</td>\n",
       "      <td>integer</td>\n",
       "      <td>No. of connections that contain the same servi...</td>\n",
       "      <td>additional</td>\n",
       "    </tr>\n",
       "    <tr>\n",
       "      <th>36</th>\n",
       "      <td>43</td>\n",
       "      <td>ct_dst_ltm</td>\n",
       "      <td>integer</td>\n",
       "      <td>No. of connections of the same destination add...</td>\n",
       "      <td>additional</td>\n",
       "    </tr>\n",
       "    <tr>\n",
       "      <th>37</th>\n",
       "      <td>44</td>\n",
       "      <td>ct_src_ltm</td>\n",
       "      <td>integer</td>\n",
       "      <td>No. of connections of the same source address ...</td>\n",
       "      <td>additional</td>\n",
       "    </tr>\n",
       "    <tr>\n",
       "      <th>38</th>\n",
       "      <td>45</td>\n",
       "      <td>ct_src_dport_ltm</td>\n",
       "      <td>integer</td>\n",
       "      <td>No of connections of the same source address (...</td>\n",
       "      <td>additional</td>\n",
       "    </tr>\n",
       "    <tr>\n",
       "      <th>39</th>\n",
       "      <td>46</td>\n",
       "      <td>ct_dst_sport_ltm</td>\n",
       "      <td>integer</td>\n",
       "      <td>No of connections of the same destination addr...</td>\n",
       "      <td>additional</td>\n",
       "    </tr>\n",
       "    <tr>\n",
       "      <th>40</th>\n",
       "      <td>47</td>\n",
       "      <td>ct_dst_src_ltm</td>\n",
       "      <td>integer</td>\n",
       "      <td>No of connections of the same source (1) and t...</td>\n",
       "      <td>additional</td>\n",
       "    </tr>\n",
       "    <tr>\n",
       "      <th>41</th>\n",
       "      <td>48</td>\n",
       "      <td>attack_cat</td>\n",
       "      <td>nominal</td>\n",
       "      <td>The name of each attack category. In this data...</td>\n",
       "      <td>label</td>\n",
       "    </tr>\n",
       "    <tr>\n",
       "      <th>42</th>\n",
       "      <td>49</td>\n",
       "      <td>label</td>\n",
       "      <td>binary</td>\n",
       "      <td>0 for normal and 1 for attack records</td>\n",
       "      <td>label</td>\n",
       "    </tr>\n",
       "  </tbody>\n",
       "</table>\n",
       "</div>"
      ],
      "text/plain": [
       "    No.               Name    Type   \\\n",
       "0     5              proto  nominal   \n",
       "1     6              state  nominal   \n",
       "2     7                dur    Float   \n",
       "3     8             sbytes  Integer   \n",
       "4     9             dbytes  Integer   \n",
       "5    10               sttl  Integer   \n",
       "6    11               dttl  Integer   \n",
       "7    12              sloss  Integer   \n",
       "8    13              dloss  Integer   \n",
       "9    14            service  nominal   \n",
       "10   15              sload    Float   \n",
       "11   16              dload    Float   \n",
       "12   17              spkts  integer   \n",
       "13   18              dpkts  integer   \n",
       "14   19               swin  integer   \n",
       "15   20               dwin  integer   \n",
       "16   21              stcpb  integer   \n",
       "17   22              dtcpb  integer   \n",
       "18   23              smean  integer   \n",
       "19   24              dmean  integer   \n",
       "20   25        trans_depth  integer   \n",
       "21   26  response_body_len  integer   \n",
       "22   27               sjit    Float   \n",
       "23   28               djit    Float   \n",
       "24   31             sinpkt    Float   \n",
       "25   32             dinpkt    Float   \n",
       "26   33             tcprtt    Float   \n",
       "27   34             synack    Float   \n",
       "28   35             ackdat    Float   \n",
       "29   36    is_sm_ips_ports   Binary   \n",
       "30   37       ct_state_ttl  Integer   \n",
       "31   38   ct_flw_http_mthd  Integer   \n",
       "32   39       is_ftp_login   Binary   \n",
       "33   40         ct_ftp_cmd  integer   \n",
       "34   41         ct_srv_src  integer   \n",
       "35   42         ct_srv_dst  integer   \n",
       "36   43         ct_dst_ltm  integer   \n",
       "37   44         ct_src_ltm  integer   \n",
       "38   45   ct_src_dport_ltm  integer   \n",
       "39   46   ct_dst_sport_ltm  integer   \n",
       "40   47     ct_dst_src_ltm  integer   \n",
       "41   48         attack_cat  nominal   \n",
       "42   49              label   binary   \n",
       "\n",
       "                                          Description feature_type  \n",
       "0                                Transaction protocol         flow  \n",
       "1   Indicates to the state and its dependent proto...        basic  \n",
       "2                               Record total duration        basic  \n",
       "3            Source to destination transaction bytes         basic  \n",
       "4             Destination to source transaction bytes        basic  \n",
       "5           Source to destination time to live value         basic  \n",
       "6            Destination to source time to live value        basic  \n",
       "7            Source packets retransmitted or dropped         basic  \n",
       "8        Destination packets retransmitted or dropped        basic  \n",
       "9   http, ftp, smtp, ssh, dns, ftp-data ,irc  and ...        basic  \n",
       "10                             Source bits per second        basic  \n",
       "11                        Destination bits per second        basic  \n",
       "12                Source to destination packet count         basic  \n",
       "13                 Destination to source packet count        basic  \n",
       "14              Source TCP window advertisement value      content  \n",
       "15         Destination TCP window advertisement value      content  \n",
       "16                    Source TCP base sequence number      content  \n",
       "17               Destination TCP base sequence number      content  \n",
       "18  Mean of the ?ow packet size transmitted by the...      content  \n",
       "19  Mean of the ?ow packet size transmitted by the...      content  \n",
       "20  Represents the pipelined depth into the connec...      content  \n",
       "21  Actual uncompressed content size of the data t...      content  \n",
       "22                               Source jitter (mSec)         time  \n",
       "23                          Destination jitter (mSec)         time  \n",
       "24             Source interpacket arrival time (mSec)         time  \n",
       "25        Destination interpacket arrival time (mSec)         time  \n",
       "26  TCP connection setup round-trip time, the sum ...         time  \n",
       "27  TCP connection setup time, the time between th...         time  \n",
       "28  TCP connection setup time, the time between th...         time  \n",
       "29  If source (1) and destination (3)IP addresses ...   additional  \n",
       "30  No. for each state (6) according to specific r...   additional  \n",
       "31  No. of flows that has methods such as Get and ...   additional  \n",
       "32  If the ftp session is accessed by user and pas...   additional  \n",
       "33     No of flows that has a command in ftp session.   additional  \n",
       "34  No. of connections that contain the same servi...   additional  \n",
       "35  No. of connections that contain the same servi...   additional  \n",
       "36  No. of connections of the same destination add...   additional  \n",
       "37  No. of connections of the same source address ...   additional  \n",
       "38  No of connections of the same source address (...   additional  \n",
       "39  No of connections of the same destination addr...   additional  \n",
       "40  No of connections of the same source (1) and t...   additional  \n",
       "41  The name of each attack category. In this data...        label  \n",
       "42              0 for normal and 1 for attack records        label  "
      ]
     },
     "execution_count": 4,
     "metadata": {},
     "output_type": "execute_result"
    }
   ],
   "source": [
    "metadata = pd.read_csv(DATA_PATH + TRAIN_PATH + NB15_FEATURES)\n",
    "\n",
    "metadata"
   ]
  },
  {
   "cell_type": "code",
   "execution_count": 5,
   "metadata": {},
   "outputs": [],
   "source": [
    "ADDITIONAL_FEATURES_TRAIN = 'additional_features_train.csv'\n",
    "BASIC_FEATURES_TRAIN = 'basic_features_train.csv'\n",
    "CONTENT_FEATURES_TRAIN = 'content_features_train.csv'\n",
    "FLOW_FEATURES_TRAIN = 'flow_features_train.csv'\n",
    "LABELS_TRAIN = 'labels_train.csv'\n",
    "TIME_FEATURES_TRAIN = 'time_features_train.csv'"
   ]
  },
  {
   "cell_type": "code",
   "execution_count": 6,
   "metadata": {},
   "outputs": [],
   "source": [
    "dataset_paths_train = [\n",
    "    ADDITIONAL_FEATURES_TRAIN,\n",
    "    BASIC_FEATURES_TRAIN,\n",
    "    CONTENT_FEATURES_TRAIN,\n",
    "    FLOW_FEATURES_TRAIN,\n",
    "    LABELS_TRAIN,\n",
    "    TIME_FEATURES_TRAIN\n",
    "]"
   ]
  },
  {
   "cell_type": "code",
   "execution_count": 7,
   "metadata": {},
   "outputs": [],
   "source": [
    "all_data_train = [pd.read_csv(DATA_PATH + TRAIN_PATH + dp) for dp in dataset_paths_train]\n",
    "\n",
    "df_train = all_data_train[0]\n",
    "\n",
    "for df_i in all_data_train[1:]:\n",
    "    df_train = pd.merge(df_train, df_i, on='id')\n",
    "\n",
    "df_train.drop([\"label\"], axis=1, inplace=True)"
   ]
  },
  {
   "cell_type": "code",
   "execution_count": 8,
   "metadata": {},
   "outputs": [],
   "source": [
    "ADDITIONAL_FEATURES_TEST = 'additional_features_test.csv'\n",
    "BASIC_FEATURES_TEST = 'basic_features_test.csv'\n",
    "CONTENT_FEATURES_TEST = 'content_features_test.csv'\n",
    "FLOW_FEATURES_TEST = 'flow_features_test.csv'\n",
    "TIME_FEATURES_TEST = 'time_features_test.csv'"
   ]
  },
  {
   "cell_type": "code",
   "execution_count": 9,
   "metadata": {},
   "outputs": [],
   "source": [
    "dataset_paths_test = [\n",
    "    ADDITIONAL_FEATURES_TEST,\n",
    "    BASIC_FEATURES_TEST,\n",
    "    CONTENT_FEATURES_TEST,\n",
    "    FLOW_FEATURES_TEST,\n",
    "    TIME_FEATURES_TEST\n",
    "]"
   ]
  },
  {
   "cell_type": "code",
   "execution_count": 10,
   "metadata": {},
   "outputs": [
    {
     "data": {
      "text/plain": [
       "(20583, 42)"
      ]
     },
     "execution_count": 10,
     "metadata": {},
     "output_type": "execute_result"
    }
   ],
   "source": [
    "all_data_test = [pd.read_csv(DATA_PATH + TEST_PATH + dp) for dp in dataset_paths_test]\n",
    "\n",
    "df_test = all_data_test[0]\n",
    "\n",
    "for df_i in all_data_test[1:]:\n",
    "    df_test = pd.merge(df_test, df_i, on='id')\n",
    "\n",
    "df_test.shape"
   ]
  },
  {
   "cell_type": "markdown",
   "metadata": {
    "id": "YdSor5sdIYGs"
   },
   "source": [
    "# Exploratory Data Analysis (Optional)\n",
    "\n",
    "Exploratory Data Analysis (EDA) is a crucial step in the data analysis process that involves examining and visualizing data sets to uncover patterns, trends, anomalies, and insights. It is the first step before applying more advanced statistical and machine learning techniques. EDA helps you to gain a deep understanding of the data you are working with, allowing you to make informed decisions and formulate hypotheses for further analysis."
   ]
  },
  {
   "cell_type": "code",
   "execution_count": 11,
   "metadata": {
    "id": "bGiGPVYNIoWk"
   },
   "outputs": [],
   "source": [
    "# data_size = df_train.shape\n",
    "# num_instances, num_features = data_size\n",
    "\n",
    "# data_size"
   ]
  },
  {
   "cell_type": "code",
   "execution_count": 12,
   "metadata": {},
   "outputs": [],
   "source": [
    "# df_train.head()"
   ]
  },
  {
   "cell_type": "code",
   "execution_count": 13,
   "metadata": {},
   "outputs": [],
   "source": [
    "# df_train.info()"
   ]
  },
  {
   "cell_type": "code",
   "execution_count": 14,
   "metadata": {},
   "outputs": [],
   "source": [
    "# df_train.isnull().sum()"
   ]
  },
  {
   "cell_type": "code",
   "execution_count": 15,
   "metadata": {},
   "outputs": [],
   "source": [
    "# df_train.sample(10)"
   ]
  },
  {
   "cell_type": "code",
   "execution_count": 16,
   "metadata": {},
   "outputs": [],
   "source": [
    "# df_train.dtypes.value_counts()"
   ]
  },
  {
   "cell_type": "code",
   "execution_count": 17,
   "metadata": {},
   "outputs": [],
   "source": [
    "# numeric_feats = df_train.select_dtypes(include=np.number)\n",
    "\n",
    "# categorical_feats = df_train.select_dtypes(include='object')"
   ]
  },
  {
   "cell_type": "code",
   "execution_count": 18,
   "metadata": {},
   "outputs": [],
   "source": [
    "# numeric_feats.describe()"
   ]
  },
  {
   "cell_type": "code",
   "execution_count": 19,
   "metadata": {},
   "outputs": [],
   "source": [
    "# num_features = numeric_feats.shape[1]\n",
    "\n",
    "# num_cols = 3\n",
    "# num_rows = (num_features + num_cols - 1) // num_cols"
   ]
  },
  {
   "cell_type": "code",
   "execution_count": 20,
   "metadata": {},
   "outputs": [],
   "source": [
    "# plt.figure(figsize=(15, num_rows * 5))\n",
    "\n",
    "# for i, column in enumerate(numeric_feats.columns, 1):\n",
    "#     plt.subplot(num_rows, num_cols, i)\n",
    "#     sns.histplot(numeric_feats[column], bins=30)\n",
    "#     plt.title(f'Distribution of {column}')\n",
    "\n",
    "# plt.tight_layout()\n",
    "# plt.show()"
   ]
  },
  {
   "cell_type": "code",
   "execution_count": 21,
   "metadata": {},
   "outputs": [],
   "source": [
    "# plt.figure(figsize=(15, num_rows * 5))\n",
    "\n",
    "# for i, column in enumerate(numeric_feats.columns, 1):\n",
    "#     plt.subplot(num_rows, num_cols, i)\n",
    "#     sns.boxplot(data=numeric_feats[column])\n",
    "#     plt.title(f'Boxplot of {column}')\n",
    "#     plt.xlabel(column)\n",
    "\n",
    "# plt.tight_layout()\n",
    "# plt.show()"
   ]
  },
  {
   "cell_type": "code",
   "execution_count": 22,
   "metadata": {},
   "outputs": [],
   "source": [
    "# corr_matrix = numeric_feats.corr()\n",
    "\n",
    "# corr_matrix"
   ]
  },
  {
   "cell_type": "code",
   "execution_count": 23,
   "metadata": {},
   "outputs": [],
   "source": [
    "# plt.figure(figsize=(35, 20))\n",
    "# sns.heatmap(corr_matrix, annot=True, fmt=\".2f\", cmap='coolwarm', square=True)\n",
    "# plt.title('Correlation Matrix')\n",
    "# plt.show()"
   ]
  },
  {
   "cell_type": "code",
   "execution_count": 24,
   "metadata": {},
   "outputs": [],
   "source": [
    "# for col in categorical_feats.columns:\n",
    "#     print(df_train[col].value_counts())"
   ]
  },
  {
   "cell_type": "code",
   "execution_count": 25,
   "metadata": {},
   "outputs": [],
   "source": [
    "# plt.figure(figsize=(15, 30))\n",
    "# for i, column in enumerate(categorical_feats.columns, 1):\n",
    "#     plt.subplot(3, 3, i)\n",
    "#     sns.countplot(y=categorical_feats[column], order=categorical_feats[column].value_counts().index)\n",
    "#     plt.title(f'Distribution of {column}')\n",
    "\n",
    "# plt.tight_layout()\n",
    "# plt.show()"
   ]
  },
  {
   "cell_type": "code",
   "execution_count": 26,
   "metadata": {},
   "outputs": [],
   "source": [
    "# target_variable = 'attack_cat'\n",
    "\n",
    "# for col in categorical_feats.columns:\n",
    "#     plt.figure(figsize=(10, 5))\n",
    "#     sns.countplot(x=col, hue=target_variable, data=df_train)\n",
    "#     plt.title(f'{col} vs {target_variable}')\n",
    "#     plt.show()"
   ]
  },
  {
   "cell_type": "markdown",
   "metadata": {
    "id": "gvx-gT3bLfHM"
   },
   "source": [
    "# 1. Split Training Set and Validation Set\n",
    "\n",
    "Splitting the training and validation set works as an early diagnostic towards the performance of the model we train. This is done before the preprocessing steps to **avoid data leakage inbetween the sets**. If you want to use k-fold cross-validation, split the data later and do the cleaning and preprocessing separately for each split.\n",
    "\n",
    "Note: For training, you should use the data contained in the `train` folder given by the TA. The `test` data is only used for kaggle submission."
   ]
  },
  {
   "cell_type": "code",
   "execution_count": 27,
   "metadata": {},
   "outputs": [],
   "source": [
    "list_drop_train = ['id']\n",
    "\n",
    "df_train.drop(list_drop_train,axis=1,inplace=True)"
   ]
  },
  {
   "cell_type": "code",
   "execution_count": 28,
   "metadata": {},
   "outputs": [],
   "source": [
    "df_numeric = df_train.select_dtypes(include=[np.number])\n",
    "df_cat = df_train.select_dtypes(exclude=[np.number])"
   ]
  },
  {
   "cell_type": "code",
   "execution_count": 29,
   "metadata": {
    "id": "4yWCUFFBLfHM"
   },
   "outputs": [],
   "source": [
    "df_train, df_val = train_test_split(df_train, test_size=0.2, random_state=0)"
   ]
  },
  {
   "cell_type": "code",
   "execution_count": 30,
   "metadata": {},
   "outputs": [],
   "source": [
    "X_train = df_train.drop(\"attack_cat\", axis = 1)\n",
    "y_train = df_train[\"attack_cat\"]\n",
    "\n",
    "X_val = df_val.drop(\"attack_cat\", axis = 1)\n",
    "y_val = df_val[\"attack_cat\"]"
   ]
  },
  {
   "cell_type": "code",
   "execution_count": 31,
   "metadata": {},
   "outputs": [],
   "source": [
    "# X = df_train.drop(\"attack_cat\", axis = 1) #tanpa id dan status\n",
    "# y = df_train[\"attack_cat\"] #hanya status\n",
    "\n",
    "# # mulai split data\n",
    "# X_train, X_val, y_train, y_val = train_test_split(\n",
    "#     X, y, test_size=0.2, random_state=42\n",
    "# )"
   ]
  },
  {
   "cell_type": "markdown",
   "metadata": {
    "id": "IC14lmo_LfHN"
   },
   "source": [
    "# 2. Data Cleaning and Preprocessing\n",
    "\n",
    "This step is the first thing to be done once a Data Scientist have grasped a general knowledge of the data. Raw data is **seldom ready for training**, therefore steps need to be taken to clean and format the data for the Machine Learning model to interpret.\n",
    "\n",
    "By performing data cleaning and preprocessing, you ensure that your dataset is ready for model training, leading to more accurate and reliable machine learning results. These steps are essential for transforming raw data into a format that machine learning algorithms can effectively learn from and make predictions.\n",
    "\n",
    "We will give some common methods for you to try, but you only have to **at least implement one method for each process**. For each step that you will do, **please explain the reason why did you do that process. Write it in a markdown cell under the code cell you wrote.**"
   ]
  },
  {
   "cell_type": "markdown",
   "metadata": {
    "id": "p95_A8hSLfHY"
   },
   "source": [
    "## A. Data Cleaning\n",
    "\n",
    "**Data cleaning** is the crucial first step in preparing your dataset for machine learning. Raw data collected from various sources is often messy and may contain errors, missing values, and inconsistencies. Data cleaning involves the following steps:\n",
    "\n",
    "1. **Handling Missing Data:** Identify and address missing values in the dataset. This can include imputing missing values, removing rows or columns with excessive missing data, or using more advanced techniques like interpolation.\n",
    "\n",
    "2. **Dealing with Outliers:** Identify and handle outliers, which are data points significantly different from the rest of the dataset. Outliers can be removed or transformed to improve model performance.\n",
    "\n",
    "3. **Data Validation:** Check for data integrity and consistency. Ensure that data types are correct, categorical variables have consistent labels, and numerical values fall within expected ranges.\n",
    "\n",
    "4. **Removing Duplicates:** Identify and remove duplicate rows, as they can skew the model's training process and evaluation metrics.\n",
    "\n",
    "5. **Feature Engineering**: Create new features or modify existing ones to extract relevant information. This step can involve scaling, normalizing, or encoding features for better model interpretability."
   ]
  },
  {
   "cell_type": "markdown",
   "metadata": {
    "id": "_wruGao9LfHZ"
   },
   "source": [
    "### I. Handling Missing Data\n",
    "\n",
    "Missing data can adversely affect the performance and accuracy of machine learning models. There are several strategies to handle missing data in machine learning:\n",
    "\n",
    "1. **Data Imputation:**\n",
    "\n",
    "    a. **Mean, Median, or Mode Imputation:** For numerical features, you can replace missing values with the mean, median, or mode of the non-missing values in the same feature. This method is simple and often effective when data is missing at random.\n",
    "\n",
    "    b. **Constant Value Imputation:** You can replace missing values with a predefined constant value (e.g., 0) if it makes sense for your dataset and problem.\n",
    "\n",
    "    c. **Imputation Using Predictive Models:** More advanced techniques involve using predictive models to estimate missing values. For example, you can train a regression model to predict missing numerical values or a classification model to predict missing categorical values.\n",
    "\n",
    "2. **Deletion of Missing Data:**\n",
    "\n",
    "    a. **Listwise Deletion:** In cases where the amount of missing data is relatively small, you can simply remove rows with missing values from your dataset. However, this approach can lead to a loss of valuable information.\n",
    "\n",
    "    b. **Column (Feature) Deletion:** If a feature has a large number of missing values and is not critical for your analysis, you can consider removing that feature altogether.\n",
    "\n",
    "3. **Domain-Specific Strategies:**\n",
    "\n",
    "    a. **Domain Knowledge:** In some cases, domain knowledge can guide the imputation process. For example, if you know that missing values are related to a specific condition, you can impute them accordingly.\n",
    "\n",
    "4. **Imputation Libraries:**\n",
    "\n",
    "    a. **Scikit-Learn:** Scikit-Learn provides a `SimpleImputer` class that can handle basic imputation strategies like mean, median, and mode imputation.\n",
    "\n",
    "    b. **Fancyimpute:** Fancyimpute is a Python library that offers more advanced imputation techniques, including matrix factorization, k-nearest neighbors, and deep learning-based methods.\n",
    "\n",
    "The choice of imputation method should be guided by the nature of your data, the amount of missing data, the problem you are trying to solve, and the assumptions you are willing to make."
   ]
  },
  {
   "cell_type": "code",
   "execution_count": 32,
   "metadata": {},
   "outputs": [],
   "source": [
    "## Ada di pipeline"
   ]
  },
  {
   "cell_type": "markdown",
   "metadata": {
    "id": "zgrSMcK75VY_"
   },
   "source": [
    "### II. Dealing with Outliers\n",
    "\n",
    "Outliers are data points that significantly differ from the majority of the data. They can be unusually high or low values that do not fit the pattern of the rest of the dataset. Outliers can significantly impact model performance, so it is important to handle them properly.\n",
    "\n",
    "Some methods to handle outliers:\n",
    "1. **Imputation**: Replace with mean, median, or a boundary value.\n",
    "2. **Clipping**: Cap values to upper and lower limits.\n",
    "3. **Transformation**: Use log, square root, or power transformations to reduce their influence.\n",
    "4. **Model-Based**: Use algorithms robust to outliers (e.g., tree-based models, Huber regression)."
   ]
  },
  {
   "cell_type": "code",
   "execution_count": 33,
   "metadata": {
    "id": "CgbZ6Lv17Uf0"
   },
   "outputs": [],
   "source": [
    "def handle_outliers(X):\n",
    "    df_numeric = X.select_dtypes(include=[np.number])\n",
    "    Q1 = df_numeric.quantile(0.25)\n",
    "    Q3 = df_numeric.quantile(0.75)\n",
    "    IQR = Q3 - Q1\n",
    "    \n",
    "    lower_limit = Q1 - 1.5 * IQR\n",
    "    upper_limit = Q3 + 1.5 * IQR\n",
    "    \n",
    "    for column in df_numeric.columns:\n",
    "        X[column] = np.clip(X[column], lower_limit[column], upper_limit[column])\n",
    "    \n",
    "    return X"
   ]
  },
  {
   "cell_type": "markdown",
   "metadata": {
    "id": "aO0ZEZ-s6Lu-"
   },
   "source": [
    "### III. Remove Duplicates\n",
    "Handling duplicate values is crucial because they can compromise data integrity, leading to inaccurate analysis and insights. Duplicate entries can bias machine learning models, causing overfitting and reducing their ability to generalize to new data. They also inflate the dataset size unnecessarily, increasing computational costs and processing times. Additionally, duplicates can distort statistical measures and lead to inconsistencies, ultimately affecting the reliability of data-driven decisions and reporting. Ensuring data quality by removing duplicates is essential for accurate, efficient, and consistent analysis."
   ]
  },
  {
   "cell_type": "code",
   "execution_count": 34,
   "metadata": {
    "id": "BHCkkZ-v7iF8"
   },
   "outputs": [],
   "source": [
    "def remove_duplicate(df):\n",
    "    df = df.drop_duplicates()"
   ]
  },
  {
   "cell_type": "markdown",
   "metadata": {
    "id": "eycPASmMLfHa"
   },
   "source": [
    "### IV. Feature Engineering\n",
    "\n",
    "**Feature engineering** involves creating new features (input variables) or transforming existing ones to improve the performance of machine learning models. Feature engineering aims to enhance the model's ability to learn patterns and make accurate predictions from the data. It's often said that \"good features make good models.\"\n",
    "\n",
    "1. **Feature Selection:** Feature engineering can involve selecting the most relevant and informative features from the dataset. Removing irrelevant or redundant features not only simplifies the model but also reduces the risk of overfitting.\n",
    "\n",
    "2. **Creating New Features:** Sometimes, the existing features may not capture the underlying patterns effectively. In such cases, engineers create new features that provide additional information. For example:\n",
    "   \n",
    "   - **Polynomial Features:** Engineers may create new features by taking the square, cube, or other higher-order terms of existing numerical features. This can help capture nonlinear relationships.\n",
    "   \n",
    "   - **Interaction Features:** Interaction features are created by combining two or more existing features. For example, if you have features \"length\" and \"width,\" you can create an \"area\" feature by multiplying them.\n",
    "\n",
    "3. **Binning or Discretization:** Continuous numerical features can be divided into bins or categories. For instance, age values can be grouped into bins like \"child,\" \"adult,\" and \"senior.\"\n",
    "\n",
    "4. **Domain-Specific Feature Engineering:** Depending on the domain and problem, engineers may create domain-specific features. For example, in fraud detection, features related to transaction history and user behavior may be engineered to identify anomalies.\n",
    "\n",
    "Feature engineering is both a creative and iterative process. It requires a deep understanding of the data, domain knowledge, and experimentation to determine which features will enhance the model's predictive power."
   ]
  },
  {
   "cell_type": "code",
   "execution_count": 35,
   "metadata": {
    "id": "UoXEV6wkLfHa"
   },
   "outputs": [],
   "source": [
    "def feature_engineering(X):\n",
    "    if 'is_ftp_login' in X.columns:\n",
    "        X['is_ftp_login'] = X['is_ftp_login'].replace({0: 'false', 1: 'true'})\n",
    "    \n",
    "    if 'is_sm_ips_ports' in X.columns:\n",
    "        X['is_sm_ips_ports'] = X['is_sm_ips_ports'].replace({0: 'false', 1: 'true'})\n",
    "\n",
    "    X['network_bytes'] = X['sbytes'] + X['dbytes']\n",
    "\n",
    "    correlation_matrix = X.select_dtypes(include=[np.number]).corr()\n",
    "\n",
    "    upper_triangle = correlation_matrix.where(np.triu(np.ones(correlation_matrix.shape), k=1).astype(bool))\n",
    "\n",
    "    highly_correlated_features = [column for column in upper_triangle.columns if any(upper_triangle[column] > 0.8)]\n",
    "\n",
    "    X.drop(columns=highly_correlated_features, inplace=True, errors='ignore')\n",
    "\n",
    "    return X, highly_correlated_features"
   ]
  },
  {
   "cell_type": "markdown",
   "metadata": {
    "id": "xw11_49xLfHb"
   },
   "source": [
    "## B. Data Preprocessing\n",
    "\n",
    "**Data preprocessing** is a broader step that encompasses both data cleaning and additional transformations to make the data suitable for machine learning algorithms. Its primary goals are:\n",
    "\n",
    "1. **Feature Scaling:** Ensure that numerical features have similar scales. Common techniques include Min-Max scaling (scaling to a specific range) or standardization (mean-centered, unit variance).\n",
    "\n",
    "2. **Encoding Categorical Variables:** Machine learning models typically work with numerical data, so categorical variables need to be encoded. This can be done using one-hot encoding, label encoding, or more advanced methods like target encoding.\n",
    "\n",
    "3. **Handling Imbalanced Classes:** If dealing with imbalanced classes in a binary classification task, apply techniques such as oversampling, undersampling, or using different evaluation metrics to address class imbalance.\n",
    "\n",
    "4. **Dimensionality Reduction:** Reduce the number of features using techniques like Principal Component Analysis (PCA) or feature selection to simplify the model and potentially improve its performance.\n",
    "\n",
    "5. **Normalization:** Normalize data to achieve a standard distribution. This is particularly important for algorithms that assume normally distributed data."
   ]
  },
  {
   "cell_type": "markdown",
   "metadata": {
    "id": "rVyVnA1hLfHd"
   },
   "source": [
    "### Notes on Preprocessing processes\n",
    "\n",
    "It is advised to create functions or classes that have the same/similar type of inputs and outputs, so you can add, remove, or swap the order of the processes easily. You can implement the functions or classes by yourself\n",
    "\n",
    "or\n",
    "\n",
    "use `sklearn` library. To create a new preprocessing component in `sklearn`, implement a corresponding class that includes:\n",
    "1. Inheritance to `BaseEstimator` and `TransformerMixin`\n",
    "2. The method `fit`\n",
    "3. The method `transform`"
   ]
  },
  {
   "cell_type": "markdown",
   "metadata": {
    "id": "WhCgOl4xLfHb"
   },
   "source": [
    "### I. Feature Scaling\n",
    "\n",
    "**Feature scaling** is a preprocessing technique used in machine learning to standardize the range of independent variables or features of data. The primary goal of feature scaling is to ensure that all features contribute equally to the training process and that machine learning algorithms can work effectively with the data.\n",
    "\n",
    "Here are the main reasons why feature scaling is important:\n",
    "\n",
    "1. **Algorithm Sensitivity:** Many machine learning algorithms are sensitive to the scale of input features. If the scales of features are significantly different, some algorithms may perform poorly or take much longer to converge.\n",
    "\n",
    "2. **Distance-Based Algorithms:** Algorithms that rely on distances or similarities between data points, such as k-nearest neighbors (KNN) and support vector machines (SVM), can be influenced by feature scales. Features with larger scales may dominate the distance calculations.\n",
    "\n",
    "3. **Regularization:** Regularization techniques, like L1 (Lasso) and L2 (Ridge) regularization, add penalty terms based on feature coefficients. Scaling ensures that all features are treated equally in the regularization process.\n",
    "\n",
    "Common methods for feature scaling include:\n",
    "\n",
    "1. **Min-Max Scaling (Normalization):** This method scales features to a specific range, typically [0, 1]. It's done using the following formula:\n",
    "\n",
    "   $$X' = \\frac{X - X_{min}}{X_{max} - X_{min}}$$\n",
    "\n",
    "   - Here, $X$ is the original feature value, $X_{min}$ is the minimum value of the feature, and $X_{max}$ is the maximum value of the feature.  \n",
    "<br />\n",
    "<br />\n",
    "2. **Standardization (Z-score Scaling):** This method scales features to have a mean (average) of 0 and a standard deviation of 1. It's done using the following formula:\n",
    "\n",
    "   $$X' = \\frac{X - \\mu}{\\sigma}$$\n",
    "\n",
    "   - $X$ is the original feature value, $\\mu$ is the mean of the feature, and $\\sigma$ is the standard deviation of the feature.  \n",
    "<br />\n",
    "<br />\n",
    "3. **Robust Scaling:** Robust scaling is a method that scales features to the interquartile range (IQR) and is less affected by outliers. It's calculated as:\n",
    "\n",
    "   $$X' = \\frac{X - Q1}{Q3 - Q1}$$\n",
    "\n",
    "   - $X$ is the original feature value, $Q1$ is the first quartile (25th percentile), and $Q3$ is the third quartile (75th percentile) of the feature.  \n",
    "<br />\n",
    "<br />\n",
    "4. **Log Transformation:** In cases where data is highly skewed or has a heavy-tailed distribution, taking the logarithm of the feature values can help stabilize the variance and improve scaling.\n",
    "\n",
    "The choice of scaling method depends on the characteristics of your data and the requirements of your machine learning algorithm. **Min-max scaling and standardization are the most commonly used techniques and work well for many datasets.**\n",
    "\n",
    "Scaling should be applied separately to each training and test set to prevent data leakage from the test set into the training set. Additionally, **some algorithms may not require feature scaling, particularly tree-based models.**"
   ]
  },
  {
   "cell_type": "code",
   "execution_count": 36,
   "metadata": {
    "id": "COef9EbCLfHb"
   },
   "outputs": [],
   "source": [
    "# Write your code here"
   ]
  },
  {
   "cell_type": "markdown",
   "metadata": {
    "id": "f_Lh-4JwLfHc"
   },
   "source": [
    "### II. Feature Encoding\n",
    "\n",
    "**Feature encoding**, also known as **categorical encoding**, is the process of converting categorical data (non-numeric data) into a numerical format so that it can be used as input for machine learning algorithms. Most machine learning models require numerical data for training and prediction, so feature encoding is a critical step in data preprocessing.\n",
    "\n",
    "Categorical data can take various forms, including:\n",
    "\n",
    "1. **Nominal Data:** Categories with no intrinsic order, like colors or country names.  \n",
    "\n",
    "2. **Ordinal Data:** Categories with a meaningful order but not necessarily equidistant, like education levels (e.g., \"high school,\" \"bachelor's,\" \"master's\").\n",
    "\n",
    "There are several common methods for encoding categorical data:\n",
    "\n",
    "1. **Label Encoding:**\n",
    "\n",
    "   - Label encoding assigns a unique integer to each category in a feature.\n",
    "   - It's suitable for ordinal data where there's a clear order among categories.\n",
    "   - For example, if you have an \"education\" feature with values \"high school,\" \"bachelor's,\" and \"master's,\" you can encode them as 0, 1, and 2, respectively.\n",
    "<br />\n",
    "<br />\n",
    "2. **One-Hot Encoding:**\n",
    "\n",
    "   - One-hot encoding creates a binary (0 or 1) column for each category in a nominal feature.\n",
    "   - It's suitable for nominal data where there's no inherent order among categories.\n",
    "   - Each category becomes a new feature, and the presence (1) or absence (0) of a category is indicated for each row.\n",
    "<br />\n",
    "<br />\n",
    "3. **Target Encoding (Mean Encoding):**\n",
    "\n",
    "   - Target encoding replaces each category with the mean of the target variable for that category.\n",
    "   - It's often used for classification problems."
   ]
  },
  {
   "cell_type": "code",
   "execution_count": 37,
   "metadata": {
    "id": "psElSUugLfHc"
   },
   "outputs": [],
   "source": [
    "# class CustomOneHotEncoder(BaseEstimator, TransformerMixin):\n",
    "#     def __init__(self, sparse_output=True, handle_unknown='ignore'):\n",
    "#         self.encoder = OneHotEncoder(sparse_output=sparse_output, handle_unknown=handle_unknown)\n",
    "\n",
    "#     def fit(self, X, y=None):\n",
    "#         self.encoder.fit(X)\n",
    "#         return self\n",
    "\n",
    "#     def transform(self, X):\n",
    "#         return self.encoder.transform(X)\n",
    "\n",
    "# menggunakan onehotencoder di pipeline"
   ]
  },
  {
   "cell_type": "markdown",
   "metadata": {
    "id": "jKQO9wtB8Pc0"
   },
   "source": [
    "### III. Handling Imbalanced Dataset\n",
    "\n",
    "**Handling imbalanced datasets** is important because imbalanced data can lead to several issues that negatively impact the performance and reliability of machine learning models. Here are some key reasons:\n",
    "\n",
    "1. **Biased Model Performance**:\n",
    "\n",
    " - Models trained on imbalanced data tend to be biased towards the majority class, leading to poor performance on the minority class. This can result in misleading accuracy metrics.\n",
    "\n",
    "2. **Misleading Accuracy**:\n",
    "\n",
    " - High overall accuracy can be misleading in imbalanced datasets. For example, if 95% of the data belongs to one class, a model that always predicts the majority class will have 95% accuracy but will fail to identify the minority class.\n",
    "\n",
    "3. **Poor Generalization**:\n",
    "\n",
    " - Models trained on imbalanced data may not generalize well to new, unseen data, especially if the minority class is underrepresented.\n",
    "\n",
    "\n",
    "Some methods to handle imbalanced datasets:\n",
    "1. **Resampling Methods**:\n",
    "\n",
    " - Oversampling: Increase the number of instances in the minority class by duplicating or generating synthetic samples (e.g., SMOTE).\n",
    " - Undersampling: Reduce the number of instances in the majority class to balance the dataset.\n",
    "\n",
    "2. **Evaluation Metrics**:\n",
    "\n",
    " - Use appropriate evaluation metrics such as precision, recall, F1-score, ROC-AUC, and confusion matrix instead of accuracy to better assess model performance on imbalanced data.\n",
    "\n",
    "3. **Algorithmic Approaches**:\n",
    "\n",
    " - Use algorithms that are designed to handle imbalanced data, such as decision trees, random forests, or ensemble methods.\n",
    " - Adjust class weights in algorithms to give more importance to the minority class."
   ]
  },
  {
   "cell_type": "code",
   "execution_count": 38,
   "metadata": {
    "id": "u2BQd2XJ9W1i"
   },
   "outputs": [],
   "source": [
    "# class HandleImbalance(BaseEstimator, TransformerMixin):\n",
    "#     def __init__(self, strategy='smote'):\n",
    "#         self.strategy = strategy\n",
    "#         self.sampler = None\n",
    "\n",
    "#     def fit(self, X, y):\n",
    "#         if self.strategy == 'smote':\n",
    "#             self.sampler = SMOTE()\n",
    "#         return self\n",
    "\n",
    "#     def transform(self, X, y):\n",
    "#         if self.sampler:\n",
    "#             X_resampled, y_resampled = self.sampler.fit_resample(X, y)\n",
    "#             return X_resampled, y_resampled\n",
    "#         return X, y\n",
    "\n",
    "# menggunakan SMOTE di pipeline"
   ]
  },
  {
   "cell_type": "markdown",
   "metadata": {
    "id": "fTMSyUzf_-HQ"
   },
   "source": [
    "### IV. Data Normalization\n",
    "\n",
    "Data normalization is used to achieve a standard distribution. Without normalization, models or processes that rely on the assumption of normality may not work correctly. Normalization helps reduce the magnitude effect and ensures numerical stability during optimization."
   ]
  },
  {
   "cell_type": "code",
   "execution_count": 39,
   "metadata": {
    "id": "HLOWHftjF1JU"
   },
   "outputs": [],
   "source": [
    "# class NormalizeData(BaseEstimator, TransformerMixin):\n",
    "#     def __init__(self):\n",
    "#         self.scaler = StandardScaler()\n",
    "\n",
    "#     def fit(self, X, y=None):\n",
    "#         self.scaler.fit(X)\n",
    "#         return self\n",
    "\n",
    "#     def transform(self, X):\n",
    "#         return self.scaler.transform(X)\n",
    "\n",
    "# menggunakan standardscaler di pipeline"
   ]
  },
  {
   "cell_type": "markdown",
   "metadata": {
    "id": "MSZPZSntF3Kb"
   },
   "source": [
    "### V. Dimensionality Reduction\n",
    "\n",
    "Dimensionality reduction is a technique used in data preprocessing to reduce the number of input features (dimensions) in a dataset while retaining as much important information as possible. It is essential when dealing with high-dimensional data, where too many features can cause problems like increased computational costs, overfitting, and difficulty in visualization. Reducing dimensions simplifies the data, making it easier to analyze and improving the performance of machine learning models.\n",
    "\n",
    "One of the main approaches to dimensionality reduction is feature extraction. Feature extraction creates new, smaller sets of features that capture the essence of the original data. Common techniques include:\n",
    "\n",
    "1. **Principal Component Analysis (PCA)**: Converts correlated features into a smaller number of uncorrelated \"principal components.\"\n",
    "2. **t-SNE (t-Distributed Stochastic Neighbor Embedding)**: A visualization-focused method to project high-dimensional data into 2D or 3D spaces.\n",
    "3. **Autoencoders**: Neural networks that learn compressed representations of the data."
   ]
  },
  {
   "cell_type": "code",
   "execution_count": 40,
   "metadata": {
    "id": "5rksSMAWICY_"
   },
   "outputs": [],
   "source": [
    "# class DimensionalityReducer(BaseEstimator, TransformerMixin):\n",
    "#     def __init__(self, n_components=0.95):\n",
    "#         self.n_components = n_components\n",
    "#         self.reducer = PCA(n_components=self.n_components)\n",
    "\n",
    "#     def fit(self, X, y=None):\n",
    "#         self.reducer.fit(X)\n",
    "#         return self\n",
    "\n",
    "#     def transform(self, X):\n",
    "#         return self.reducer.transform(X)\n",
    "\n",
    "# menggunakan PCA di pipeline"
   ]
  },
  {
   "cell_type": "markdown",
   "metadata": {
    "id": "-ctVzt5DLfHd"
   },
   "source": [
    "# 3. Compile Preprocessing Pipeline\n",
    "\n",
    "All of the preprocessing classes or functions defined earlier will be compiled in this step."
   ]
  },
  {
   "cell_type": "markdown",
   "metadata": {
    "id": "S_ZlncSVjJG6"
   },
   "source": [
    "If you use sklearn to create preprocessing classes, you can list your preprocessing classes in the Pipeline object sequentially, and then fit and transform your data."
   ]
  },
  {
   "cell_type": "code",
   "execution_count": 41,
   "metadata": {},
   "outputs": [],
   "source": [
    "X_train_transformed, dropped_features_train = feature_engineering(handle_outliers(X_train))\n",
    "X_val_transformed, dropped_features_val = feature_engineering(X_val)\n",
    "remove_duplicate(X_train_transformed)"
   ]
  },
  {
   "cell_type": "code",
   "execution_count": 42,
   "metadata": {},
   "outputs": [],
   "source": [
    "numeric_transformer = Pipeline(steps=[\n",
    "    ('imputer', SimpleImputer(strategy='median')),\n",
    "    ('yeo_johnson', PowerTransformer(method='yeo-johnson')),\n",
    "    ('scaler', StandardScaler())\n",
    "])\n",
    "\n",
    "categorical_transformer = Pipeline(steps=[\n",
    "    ('imputer', SimpleImputer(strategy='constant', fill_value='unknown')), \n",
    "    ('onehot', OneHotEncoder(sparse_output=False, handle_unknown='ignore'))\n",
    "])"
   ]
  },
  {
   "cell_type": "code",
   "execution_count": 43,
   "metadata": {},
   "outputs": [],
   "source": [
    "preprocessor = ColumnTransformer(\n",
    "    transformers=[\n",
    "        ('num', numeric_transformer, X_train_transformed.select_dtypes(include=[np.number]).columns),\n",
    "        ('cat', categorical_transformer, X_train_transformed.select_dtypes(exclude=[np.number]).columns)\n",
    "    ], remainder='passthrough'\n",
    ")"
   ]
  },
  {
   "cell_type": "code",
   "execution_count": 44,
   "metadata": {
    "id": "jHraoW_7LfHd"
   },
   "outputs": [],
   "source": [
    "# pipeline = Pipeline(steps=[\n",
    "#         ('preprocessor', preprocessor),\n",
    "#         # ('imbalance', HandleImbalance()),\n",
    "#         ('var_filter', VarianceThreshold(threshold=0.01)),\n",
    "#         ('feature_selection', SelectKBest(score_func=f_classif, k=2)),\n",
    "#         ('normalize', NormalizeData()),\n",
    "#         ('dim_reduce', DimensionalityReducer(n_components=2))\n",
    "#     ])"
   ]
  },
  {
   "cell_type": "code",
   "execution_count": 45,
   "metadata": {},
   "outputs": [],
   "source": [
    "pipeline = Pipeline(steps=[\n",
    "    ('preprocessor', preprocessor),\n",
    "    ('var_filter', VarianceThreshold(threshold=0.01)),\n",
    "    ('feature_selection', SelectKBest(score_func=f_classif, k=20)),\n",
    "    ('scaler', StandardScaler()),\n",
    "    ('pca', PCA(n_components=10))\n",
    "])\n"
   ]
  },
  {
   "cell_type": "code",
   "execution_count": 46,
   "metadata": {
    "id": "9s56aFFxLfHd"
   },
   "outputs": [],
   "source": [
    "train_X_preprocessor = pipeline.fit_transform(X_train, y_train)\n",
    "val_X_preprocessor = pipeline.transform(X_val)"
   ]
  },
  {
   "cell_type": "markdown",
   "metadata": {
    "id": "9A3adbZXLfHe"
   },
   "source": [
    "# 4. Modeling and Validation\n",
    "\n",
    "Modelling is the process of building your own machine learning models to solve specific problems, or in this assignment context, predicting the target feature `attack_cat`. Validation is the process of evaluating your trained model using the validation set or cross-validation method and providing some metrics that can help you decide what to do in the next iteration of development."
   ]
  },
  {
   "cell_type": "markdown",
   "metadata": {
    "id": "ZnhMNbBILfHf"
   },
   "source": [
    "## A. KNN"
   ]
  },
  {
   "cell_type": "code",
   "execution_count": 47,
   "metadata": {
    "id": "KV6ICmFmlqjk"
   },
   "outputs": [
    {
     "name": "stdout",
     "output_type": "stream",
     "text": [
      "Accuracy:  0.7854800536086002\n",
      "Classification Report: \n",
      "                 precision    recall  f1-score   support\n",
      "\n",
      "      Analysis       0.36      0.01      0.03       372\n",
      "      Backdoor       0.50      0.03      0.05       347\n",
      "           DoS       0.33      0.18      0.23      2457\n",
      "      Exploits       0.61      0.81      0.70      6681\n",
      "       Fuzzers       0.59      0.70      0.64      3633\n",
      "       Generic       1.00      0.98      0.99      8025\n",
      "        Normal       0.92      0.87      0.89     11251\n",
      "Reconnaissance       0.75      0.70      0.73      2073\n",
      "     Shellcode       0.49      0.19      0.28       208\n",
      "         Worms       0.00      0.00      0.00        22\n",
      "\n",
      "      accuracy                           0.79     35069\n",
      "     macro avg       0.55      0.45      0.45     35069\n",
      "  weighted avg       0.78      0.79      0.77     35069\n",
      "\n"
     ]
    }
   ],
   "source": [
    "from main import KNNScratch\n",
    "\n",
    "knn = KNNScratch(neighbors=30, metric='euclidean')\n",
    "\n",
    "knn.fit(train_X_preprocessor, y_train)\n",
    "knn_pred = knn.predict(val_X_preprocessor)\n",
    "print(\"Accuracy: \", accuracy_score(y_val, knn_pred))\n",
    "print(\"Classification Report: \\n\", classification_report(y_val, knn_pred))"
   ]
  },
  {
   "cell_type": "code",
   "execution_count": 48,
   "metadata": {},
   "outputs": [
    {
     "name": "stdout",
     "output_type": "stream",
     "text": [
      "Accuracy:  0.7851663862670735\n",
      "Classification Report: \n",
      "                 precision    recall  f1-score   support\n",
      "\n",
      "      Analysis       0.41      0.02      0.04       372\n",
      "      Backdoor       0.43      0.03      0.05       347\n",
      "           DoS       0.33      0.22      0.26      2457\n",
      "      Exploits       0.62      0.80      0.69      6681\n",
      "       Fuzzers       0.59      0.71      0.64      3633\n",
      "       Generic       1.00      0.98      0.99      8025\n",
      "        Normal       0.93      0.87      0.89     11251\n",
      "Reconnaissance       0.76      0.70      0.73      2073\n",
      "     Shellcode       0.52      0.19      0.28       208\n",
      "         Worms       0.00      0.00      0.00        22\n",
      "\n",
      "      accuracy                           0.79     35069\n",
      "     macro avg       0.56      0.45      0.46     35069\n",
      "  weighted avg       0.78      0.79      0.78     35069\n",
      "\n"
     ]
    }
   ],
   "source": [
    "knn2 = KNeighborsClassifier(n_neighbors=30, metric='euclidean')\n",
    "\n",
    "knn2.fit(train_X_preprocessor, y_train)\n",
    "knn_pred = knn2.predict(val_X_preprocessor)\n",
    "print(\"Accuracy: \", accuracy_score(y_val, knn_pred))\n",
    "print(\"Classification Report: \\n\", classification_report(y_val, knn_pred))"
   ]
  },
  {
   "cell_type": "markdown",
   "metadata": {
    "id": "nW0bMzkDLfHf"
   },
   "source": [
    "## B. Naive Bayes"
   ]
  },
  {
   "cell_type": "code",
   "execution_count": 49,
   "metadata": {},
   "outputs": [
    {
     "name": "stdout",
     "output_type": "stream",
     "text": [
      "Accuracy:  0.674555875559611\n",
      "Classification Report: \n",
      "                 precision    recall  f1-score   support\n",
      "\n",
      "      Analysis       0.00      0.00      0.00       372\n",
      "      Backdoor       0.06      0.01      0.01       347\n",
      "           DoS       0.33      0.69      0.45      2457\n",
      "      Exploits       0.56      0.38      0.45      6681\n",
      "       Fuzzers       0.43      0.60      0.50      3633\n",
      "       Generic       1.00      0.95      0.97      8025\n",
      "        Normal       0.82      0.80      0.81     11251\n",
      "Reconnaissance       0.45      0.29      0.35      2073\n",
      "     Shellcode       0.15      0.18      0.17       208\n",
      "         Worms       0.03      0.23      0.05        22\n",
      "\n",
      "      accuracy                           0.67     35069\n",
      "     macro avg       0.38      0.41      0.38     35069\n",
      "  weighted avg       0.69      0.67      0.67     35069\n",
      "\n"
     ]
    }
   ],
   "source": [
    "from main import GaussianNaiveBayesScratch\n",
    "\n",
    "gnb_scratch = GaussianNaiveBayesScratch()\n",
    "gnb_scratch.fit(train_X_preprocessor, y_train)\n",
    "gnb_scratch_pred = gnb_scratch.predict(val_X_preprocessor)\n",
    "print(\"Accuracy: \", accuracy_score(y_val, gnb_scratch_pred))\n",
    "print(\"Classification Report: \\n\", classification_report(y_val, gnb_scratch_pred))"
   ]
  },
  {
   "cell_type": "code",
   "execution_count": 50,
   "metadata": {
    "id": "C_XwsN_-LfHg"
   },
   "outputs": [],
   "source": [
    "# gnb_scratch = ()\n",
    "# gnb_scratch.fit(train_X_preprocessor, y_train)\n",
    "# gnb_scratch_pred = gnb_scratch.predict(val_X_preprocessor)\n",
    "# print(\"Accuracy: \", accuracy_score(y_val, gnb_scratch_pred))\n",
    "# print(\"Classification Report: \\n\", classification_report(y_val, gnb_scratch_pred))"
   ]
  },
  {
   "cell_type": "markdown",
   "metadata": {
    "id": "TLDtIkPdLfHg"
   },
   "source": [
    "## C. ID3"
   ]
  },
  {
   "cell_type": "code",
   "execution_count": 51,
   "metadata": {
    "id": "gZ6_x1LKLfHh"
   },
   "outputs": [],
   "source": [
    "# Type your code here"
   ]
  },
  {
   "cell_type": "markdown",
   "metadata": {
    "id": "LoH2u6fOLfHh"
   },
   "source": [
    "## D. Improvements (Optional)\n",
    "\n",
    "- **Visualize the model evaluation result**\n",
    "\n",
    "This will help you to understand the details more clearly about your model's performance. From the visualization, you can see clearly if your model is leaning towards a class than the others. (Hint: confusion matrix, ROC-AUC curve, etc.)\n",
    "\n",
    "- **Explore the hyperparameters of your models**\n",
    "\n",
    "Each models have their own hyperparameters. And each of the hyperparameter have different effects on the model behaviour. You can optimize the model performance by finding the good set of hyperparameters through a process called **hyperparameter tuning**. (Hint: Grid search, random search, bayesian optimization)\n",
    "\n",
    "- **Cross-validation**\n",
    "\n",
    "Cross-validation is a critical technique in machine learning and data science for evaluating and validating the performance of predictive models. It provides a more **robust** and **reliable** evaluation method compared to a hold-out (single train-test set) validation. Though, it requires more time and computing power because of how cross-validation works. (Hint: k-fold cross-validation, stratified k-fold cross-validation, etc.)"
   ]
  },
  {
   "cell_type": "code",
   "execution_count": 52,
   "metadata": {
    "id": "pg-A54yELfHh"
   },
   "outputs": [],
   "source": [
    "# Type your code here"
   ]
  },
  {
   "cell_type": "markdown",
   "metadata": {
    "id": "Li4l53DjLfHh"
   },
   "source": [
    "## E. Submission\n",
    "To predict the test set target feature and submit the results to the kaggle competition platform, do the following:\n",
    "1. Create a new pipeline instance identical to the first in Data Preprocessing\n",
    "2. With the pipeline, apply `fit_transform` to the original training set before splitting, then only apply `transform` to the test set.\n",
    "3. Retrain the model on the preprocessed training set\n",
    "4. Predict the test set\n",
    "5. Make sure the submission contains the `id` and `attack_cat` column."
   ]
  },
  {
   "cell_type": "code",
   "execution_count": 53,
   "metadata": {
    "id": "LeqnfWc-LfHi"
   },
   "outputs": [],
   "source": [
    "test_ids = df_test[\"id\"]\n",
    "X_test = df_test.drop(columns=[\"id\"])"
   ]
  },
  {
   "cell_type": "code",
   "execution_count": 54,
   "metadata": {},
   "outputs": [
    {
     "name": "stdout",
     "output_type": "stream",
     "text": [
      "Submission file succesfully created [submission.csv]\n"
     ]
    }
   ],
   "source": [
    "# Preprocess the test data\n",
    "test_X_preprocessed = pipeline.transform(X_test)\n",
    "test_pred = knn.predict(test_X_preprocessed)\n",
    "\n",
    "submission = pd.DataFrame({\n",
    "    \"id\": test_ids,\n",
    "    \"attack_cat\": test_pred\n",
    "})\n",
    "\n",
    "\n",
    "submission.to_csv(\"submission2.csv\", index=False)\n",
    "print(\"Submission file succesfully created [submission.csv]\")"
   ]
  },
  {
   "cell_type": "markdown",
   "metadata": {
    "id": "R-jXvKOpLfHi"
   },
   "source": [
    "# 6. Error Analysis\n",
    "\n",
    "Based on all the process you have done until the modeling and evaluation step, write an analysis to support each steps you have taken to solve this problem. Write the analysis using the markdown block. Some questions that may help you in writing the analysis:\n",
    "\n",
    "- Does my model perform better in predicting one class than the other? If so, why is that?\n",
    "- To each models I have tried, which performs the best and what could be the reason?\n",
    "- Is it better for me to impute or drop the missing data? Why?\n",
    "- Does feature scaling help improve my model performance?\n",
    "- etc..."
   ]
  },
  {
   "cell_type": "markdown",
   "metadata": {},
   "source": []
  },
  {
   "cell_type": "markdown",
   "metadata": {
    "id": "tWL3nEAELfHj"
   },
   "source": [
    "`Provide your analysis here`"
   ]
  }
 ],
 "metadata": {
  "colab": {
   "provenance": [],
   "toc_visible": true
  },
  "kernelspec": {
   "display_name": "Python 3",
   "language": "python",
   "name": "python3"
  },
  "language_info": {
   "codemirror_mode": {
    "name": "ipython",
    "version": 3
   },
   "file_extension": ".py",
   "mimetype": "text/x-python",
   "name": "python",
   "nbconvert_exporter": "python",
   "pygments_lexer": "ipython3",
   "version": "3.10.5"
  }
 },
 "nbformat": 4,
 "nbformat_minor": 0
}
